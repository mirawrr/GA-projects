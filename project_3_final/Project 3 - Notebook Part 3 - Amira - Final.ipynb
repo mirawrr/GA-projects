{
 "cells": [
  {
   "cell_type": "markdown",
   "id": "f5e92d56",
   "metadata": {},
   "source": [
    "<img src=\"http://imgur.com/1ZcRyrc.png\" style=\"float: left; margin: 20px; height: 55px\">\n",
    "\n",
    "# Project 3: Subreddit Classifier - Tea or Coffee?\n",
    "By Amira (DSI-28 SG)"
   ]
  },
  {
   "cell_type": "markdown",
   "id": "67e6ea8f",
   "metadata": {},
   "source": [
    "---\n",
    "# Problem Statement\n",
    "\n",
    "We are a team of data scientists working for Coffea Vibes, a beverage company. The company is venturing into e-commerce and will be launching its own website/application selling coffee and tea products to consumers. We have been tasked to build a classification model that can accurately distinguish between coffee and tea in textual data.\n",
    "\n",
    "Our classification model will contribute to the following use cases:\n",
    "\n",
    "1. Our web development team can optimise the recommender systems so as to accurately suggest related products and advertisements to our potential consumers who might have varying preferences for coffee or tea.\n",
    "2. Our business insights team can leverage on the classification model to correctly distinguish customer feedback on coffee and tea (e.g. through emails) and comments made on the company's social media pages, to aid better understanding of customer's feedback and take appropriate actions quickly, if necessary.\n",
    "\n",
    "We evaluated the models based on the following criteria:\n",
    "\n",
    "1. Accuracy scores (the higher, the better)\n",
    "2. Delta between train and test scores (the smaller, the better)\n",
    "3. Clear distinction of important features i.e. words to distinguish coffee and tea"
   ]
  },
  {
   "cell_type": "markdown",
   "id": "0ece90cf",
   "metadata": {},
   "source": [
    "---\n",
    "# Structure\n",
    "\n",
    "To organise my work better, I have organised this project into two notebooks: \n",
    "\n",
    "* Notebook 1 : Data Acquisition\n",
    "* Notebook 2: Data Cleaning & Exploratory Data Analysis\n",
    "* Notebook 3: Modelling & Model Evaluation\n",
    "\n",
    "<span style='color:red'>**This is Notebook 3.**</span>"
   ]
  },
  {
   "cell_type": "markdown",
   "id": "4d177ff1",
   "metadata": {},
   "source": [
    "---\n",
    "## Part 3: Preprocessing & Modelling"
   ]
  },
  {
   "cell_type": "code",
   "execution_count": 1,
   "id": "5ff84d57",
   "metadata": {},
   "outputs": [
    {
     "data": {
      "text/html": [
       "\n",
       "<style>\n",
       ".output_png {\n",
       "    display: table-cell;\n",
       "    text-align: center;\n",
       "    vertical-align: middle;\n",
       "}\n",
       "</style>\n"
      ],
      "text/plain": [
       "<IPython.core.display.HTML object>"
      ]
     },
     "execution_count": 1,
     "metadata": {},
     "output_type": "execute_result"
    }
   ],
   "source": [
    "# import required libraries/packages\n",
    "\n",
    "import pandas as pd\n",
    "import numpy as np\n",
    "import seaborn as sns\n",
    "import matplotlib.pyplot as plt\n",
    "import re\n",
    "import string\n",
    "import nltk\n",
    "\n",
    "# importing NLP packages\n",
    "from nltk.corpus import stopwords,wordnet\n",
    "from nltk.stem import WordNetLemmatizer\n",
    "from sklearn.feature_extraction.text import CountVectorizer, TfidfVectorizer\n",
    "from nltk.tokenize import sent_tokenize, word_tokenize, RegexpTokenizer\n",
    "\n",
    "# importing modeling packages\n",
    "from sklearn.model_selection import train_test_split, cross_val_score, GridSearchCV\n",
    "from sklearn.preprocessing import StandardScaler\n",
    "from sklearn.pipeline import Pipeline\n",
    "from sklearn.linear_model import LogisticRegression\n",
    "from sklearn.naive_bayes import MultinomialNB\n",
    "from sklearn import metrics\n",
    "from sklearn.metrics import confusion_matrix, plot_confusion_matrix,classification_report,accuracy_score, plot_roc_curve, roc_auc_score, recall_score, precision_score, f1_score\n",
    "from sklearn.ensemble import RandomForestClassifier\n",
    "\n",
    "pd.options.display.max_rows = 500\n",
    "pd.options.display.max_columns = 100\n",
    "pd.options.display.max_colwidth = 200\n",
    "\n",
    "import warnings\n",
    "warnings.filterwarnings(\"ignore\")\n",
    "\n",
    "from IPython.core.display import HTML\n",
    "HTML(\"\"\"\n",
    "<style>\n",
    ".output_png {\n",
    "    display: table-cell;\n",
    "    text-align: center;\n",
    "    vertical-align: middle;\n",
    "}\n",
    "</style>\n",
    "\"\"\")"
   ]
  },
  {
   "cell_type": "code",
   "execution_count": 2,
   "id": "3fbd0da7",
   "metadata": {},
   "outputs": [],
   "source": [
    "# load csv file\n",
    "posts = pd.read_csv('./data/submissions.csv')"
   ]
  },
  {
   "cell_type": "code",
   "execution_count": 3,
   "id": "d961c90f",
   "metadata": {},
   "outputs": [
    {
     "data": {
      "text/plain": [
       "Coffee    1472\n",
       "tea       1370\n",
       "Name: subreddit, dtype: int64"
      ]
     },
     "execution_count": 3,
     "metadata": {},
     "output_type": "execute_result"
    }
   ],
   "source": [
    "posts['subreddit'].value_counts()"
   ]
  },
  {
   "cell_type": "code",
   "execution_count": 4,
   "id": "88d5d262",
   "metadata": {},
   "outputs": [
    {
     "data": {
      "text/plain": [
       "<AxesSubplot:xlabel='subreddit', ylabel='count'>"
      ]
     },
     "execution_count": 4,
     "metadata": {},
     "output_type": "execute_result"
    },
    {
     "data": {
      "image/png": "[encoded data removed]",
      "text/plain": [
       "<Figure size 432x288 with 1 Axes>"
      ]
     },
     "metadata": {
      "needs_background": "light"
     },
     "output_type": "display_data"
    }
   ],
   "source": [
    "sns.countplot(x='subreddit',data=posts)"
   ]
  },
  {
   "cell_type": "markdown",
   "id": "0fd8b47a",
   "metadata": {},
   "source": [
    "### Model Prep: Dummify Labels"
   ]
  },
  {
   "cell_type": "code",
   "execution_count": 5,
   "id": "71a03476",
   "metadata": {},
   "outputs": [],
   "source": [
    "# Dummify 'subreddit' column for classification\n",
    "# Label 1 for coffee, 0 for tea\n",
    "\n",
    "posts['subreddit'] = posts['subreddit'].apply(lambda x: 0 if x == 'Coffee' else 1)"
   ]
  },
  {
   "cell_type": "markdown",
   "id": "a94c40d0",
   "metadata": {},
   "source": [
    "### Model Prep: Custom Stopwords"
   ]
  },
  {
   "cell_type": "markdown",
   "id": "4f8ce2a1",
   "metadata": {},
   "source": [
    "**Note:** Based on the EDA performed earlier, I have identified several words that are not in the ntlk.stopwords corpus but are common in both coffee and tea dfs. Since they are common words between the two categories, they will not be useful in correctly classification a post into either category. Therefore, I will drop these words from the text data."
   ]
  },
  {
   "cell_type": "code",
   "execution_count": 6,
   "id": "e0dc8099",
   "metadata": {},
   "outputs": [],
   "source": [
    "my_stopwords = ['coffee','tea','im','like','ive','try','water','taste','drink','know','want','cup','taste','look','question','use','dont']\n",
    "\n",
    "# add words: ,'get''hey','make','thanks','advance','good','time'"
   ]
  },
  {
   "cell_type": "code",
   "execution_count": 7,
   "id": "84d07179",
   "metadata": {},
   "outputs": [],
   "source": [
    "def custom_stopwords(text):\n",
    "    tokens = re.split('\\W+', text)\n",
    "    text = \" \".join([w for w in tokens if w not in my_stopwords])    \n",
    "    return text"
   ]
  },
  {
   "cell_type": "code",
   "execution_count": 8,
   "id": "3512e764",
   "metadata": {},
   "outputs": [],
   "source": [
    "# apply removal of custom stopwords to clean_full_text (previously cleaned/lemmatized in notebook 2)\n",
    "posts['clean_full_text'] = posts['clean_full_text'].apply(lambda x: custom_stopwords(str(x)))"
   ]
  },
  {
   "cell_type": "markdown",
   "id": "4044df3f",
   "metadata": {},
   "source": [
    "### Model Prep: Train/test split"
   ]
  },
  {
   "cell_type": "code",
   "execution_count": 9,
   "id": "05638cf6",
   "metadata": {},
   "outputs": [],
   "source": [
    "# our target is the subreddit labels: 0 for coffee, 1 for tea\n",
    "X = posts['clean_full_text']\n",
    "y = posts['subreddit']"
   ]
  },
  {
   "cell_type": "code",
   "execution_count": 10,
   "id": "7738225a",
   "metadata": {},
   "outputs": [
    {
     "name": "stdout",
     "output_type": "stream",
     "text": [
      "(2131,)\n",
      "(2131,)\n"
     ]
    }
   ],
   "source": [
    "# stratify to keep same balance of y in the test and train data\n",
    "X_train, X_test, y_train, y_test = train_test_split(X,y,test_size=0.25,random_state=42,stratify=y)\n",
    "print(X_train.shape)\n",
    "print(y_train.shape)"
   ]
  },
  {
   "cell_type": "markdown",
   "id": "8fbb1dcc",
   "metadata": {},
   "source": [
    "## Summary of Model Performance\n",
    "\n",
    "The **CountVectorizer - Multinomial Naive Bayes model** is the best performing model, based on the test score and minimal overfitting:\n",
    "\n",
    "| Method | Train Score | Test Score (Accuracy) |Delta|Evaluation|\n",
    "| :-: | :-: | :-: | :-:|:-:|\n",
    "| Baseline | - | 0.52 | -|-|\n",
    "| CountVect + Multi NB | 0.93 | 0.88| 0.05 | 1st |\n",
    "| TF-IDF + Log Regression | 0.96 | 0.87 | 0.09 |2nd |\n",
    "|TF-IDF + Multi NB | 0.95 | 0.86 | 0.09 | 3rd |\n",
    "| CountVect + Log Regression | 0.99 | 0.85 | 0.14 |4th |\n",
    "| CountVect + Random Forest | 1.0 | 0.84 | 0.16 |5th |\n",
    "| TF-IDF + Random Forest | 1.0 | 0.83 | 0.17 | 6th |\n",
    "\n",
    "**We will not use the gridsearchCV best_score as the evaluating criteria, since we are not working with truly unseen test data."
   ]
  },
  {
   "cell_type": "markdown",
   "id": "0876722f",
   "metadata": {},
   "source": [
    "### Baseline Accuracy"
   ]
  },
  {
   "cell_type": "markdown",
   "id": "e23e57e1",
   "metadata": {},
   "source": [
    "**Note:** There is slightly more posts from coffee than tea subreddits in this dataset. Our base model will tend to predict coffee, but it will only be accurate around ~51% of the time. We build complex models to perform better than this. "
   ]
  },
  {
   "cell_type": "code",
   "execution_count": 11,
   "id": "13b8284e",
   "metadata": {},
   "outputs": [
    {
     "data": {
      "text/plain": [
       "0    0.517581\n",
       "1    0.482419\n",
       "Name: subreddit, dtype: float64"
      ]
     },
     "execution_count": 11,
     "metadata": {},
     "output_type": "execute_result"
    }
   ],
   "source": [
    "# Label 1 for coffee, 0 for tea\n",
    "y_test.value_counts(normalize=True)"
   ]
  },
  {
   "cell_type": "markdown",
   "id": "ff6ae4fa",
   "metadata": {},
   "source": [
    "### Model 1: CountVectorizer & Multinomial Naive Bayes"
   ]
  },
  {
   "cell_type": "code",
   "execution_count": 12,
   "id": "61aa8923",
   "metadata": {},
   "outputs": [],
   "source": [
    "# set pipeline and parameters \n",
    "pipe1 = Pipeline([('cvec',CountVectorizer()),('nb', MultinomialNB())])\n",
    "\n",
    "# gridsearchcv done on several parameters, and found the optimal values as follows:\n",
    "params1 = {\n",
    "    'cvec__max_features': [5_000], #[3_000,5_000, 7_000]\n",
    "    'cvec__min_df': [2], #[2, 3]\n",
    "    'cvec__max_df': [0.9], #[0.9, 0.95]\n",
    "    'cvec__ngram_range': [(1,1)], #[(1,1),(1,2)]\n",
    "    'nb__alpha' : [0.8]  #(0.5,1.5,.1)\n",
    "}"
   ]
  },
  {
   "cell_type": "code",
   "execution_count": 13,
   "id": "2405122a",
   "metadata": {},
   "outputs": [],
   "source": [
    "# set gridsearch \n",
    "gs1 = GridSearchCV(pipe1, \n",
    "                  param_grid=params1,\n",
    "                  cv=5,\n",
    "                  n_jobs=-1) "
   ]
  },
  {
   "cell_type": "code",
   "execution_count": 14,
   "id": "51ed8a3c",
   "metadata": {},
   "outputs": [
    {
     "data": {
      "text/plain": [
       "GridSearchCV(cv=5,\n",
       "             estimator=Pipeline(steps=[('cvec', CountVectorizer()),\n",
       "                                       ('nb', MultinomialNB())]),\n",
       "             n_jobs=-1,\n",
       "             param_grid={'cvec__max_df': [0.9], 'cvec__max_features': [5000],\n",
       "                         'cvec__min_df': [2], 'cvec__ngram_range': [(1, 1)],\n",
       "                         'nb__alpha': [0.8]})"
      ]
     },
     "execution_count": 14,
     "metadata": {},
     "output_type": "execute_result"
    }
   ],
   "source": [
    "# fit train set to gridsearch, pipe and params\n",
    "gs1.fit(X_train, y_train)"
   ]
  },
  {
   "cell_type": "code",
   "execution_count": 15,
   "id": "f8130938",
   "metadata": {},
   "outputs": [
    {
     "name": "stdout",
     "output_type": "stream",
     "text": [
      "Mean cross-val score of the best_estimator for model 1: 0.877535156292949.\n",
      "Best parameters for model 1: {'cvec__max_df': 0.9, 'cvec__max_features': 5000, 'cvec__min_df': 2, 'cvec__ngram_range': (1, 1), 'nb__alpha': 0.8}.\n"
     ]
    }
   ],
   "source": [
    "# derive the best score and best parameters\n",
    "print(f'Mean cross-val score of the best_estimator for model 1: {gs1.best_score_}.') \n",
    "print(f'Best parameters for model 1: {gs1.best_params_}.')"
   ]
  },
  {
   "cell_type": "code",
   "execution_count": 16,
   "id": "5b36e4b3",
   "metadata": {
    "scrolled": true
   },
   "outputs": [
    {
     "name": "stdout",
     "output_type": "stream",
     "text": [
      "Train score: 0.9296105114969498\n",
      "Test score: 0.8790436005625879\n"
     ]
    }
   ],
   "source": [
    "# Score model on train and test sets\n",
    "print(f'Train score: {gs1.score(X_train, y_train)}')\n",
    "print(f'Test score: {gs1.score(X_test, y_test)}')"
   ]
  },
  {
   "cell_type": "code",
   "execution_count": 17,
   "id": "e8467a85",
   "metadata": {},
   "outputs": [],
   "source": [
    "# get predictions\n",
    "preds1 = gs1.predict(X_test)"
   ]
  },
  {
   "cell_type": "code",
   "execution_count": 18,
   "id": "1f5686fb",
   "metadata": {},
   "outputs": [],
   "source": [
    "# save confusion matrix values\n",
    "cm1 = confusion_matrix(y_test, preds1)\n",
    "tn1, fp1, fn1, tp1 = confusion_matrix(y_test, preds1).ravel()"
   ]
  },
  {
   "cell_type": "code",
   "execution_count": 19,
   "id": "30508a82",
   "metadata": {},
   "outputs": [],
   "source": [
    "# calculate classification metrics \n",
    "score1 = gs1.score(X_test, y_test) # accuracy score\n",
    "prec1 = precision_score(y_test, preds1) # precision score\n",
    "rec1 = recall_score(y_test, preds1) # recall/sensitivity score\n",
    "spec1 = tn1 / (tn1 + fp1) # specificity score"
   ]
  },
  {
   "cell_type": "code",
   "execution_count": 20,
   "id": "24b08e09",
   "metadata": {},
   "outputs": [],
   "source": [
    "# Create modified labels for confusion matrix\n",
    "modified_cm1 = []\n",
    "for index,value in enumerate(cm1):\n",
    "    if index == 0:\n",
    "        modified_cm1.append(['TN = ' + str(value[0]), 'FP = ' + str(value[1])])\n",
    "    if index == 1:\n",
    "        modified_cm1.append(['FN = ' + str(value[0]), 'TP = ' + str(value[1])])   "
   ]
  },
  {
   "cell_type": "code",
   "execution_count": 21,
   "id": "bd1bf6ba",
   "metadata": {},
   "outputs": [
    {
     "data": {
      "text/plain": [
       "Text(0.5, 1.05, 'Confusion Matrix for Model 1: CountVectorizer x Multinomial Naive Bayes')"
      ]
     },
     "execution_count": 21,
     "metadata": {},
     "output_type": "execute_result"
    },
    {
     "data": {
      "image/png": "[encoded data removed]",
      "text/plain": [
       "<Figure size 432x432 with 2 Axes>"
      ]
     },
     "metadata": {
      "needs_background": "light"
     },
     "output_type": "display_data"
    }
   ],
   "source": [
    "# plot confusion matrix\n",
    "plt.figure(figsize=(6,6))\n",
    "sns.heatmap(cm1, annot=np.array(modified_cm1),\n",
    "            fmt=\"\",\n",
    "            annot_kws={\"size\": 12},\n",
    "            linewidths=.5,\n",
    "            square = True,\n",
    "            cmap = 'Reds',\n",
    "            xticklabels = ['coffee', 'tea'],\n",
    "            yticklabels = ['coffee', 'tea'],\n",
    "            );\n",
    "\n",
    "plt.ylabel('Actual label', fontsize = 12);\n",
    "plt.xlabel('Predicted label', fontsize = 12);\n",
    "plt.title('Accuracy: {:.2f}'.format(score1)+'\\n'\n",
    "          +'Precision: {:.2f}'.format(prec1)+'\\n'\n",
    "          +'Recall: {:.2f}'.format(rec1)+'\\n'\n",
    "          + 'Specificity: {:.2f}'.format(spec1)+'\\n', size = 12);\n",
    "plt.tick_params(labelsize= 12)\n",
    "plt.suptitle('Confusion Matrix for Model 1: CountVectorizer x Multinomial Naive Bayes', y = 1.05,fontsize=14)"
   ]
  },
  {
   "cell_type": "markdown",
   "id": "d249d220",
   "metadata": {},
   "source": [
    "### Model 1: Feature Importance"
   ]
  },
  {
   "cell_type": "code",
   "execution_count": 22,
   "id": "d46b88a3",
   "metadata": {},
   "outputs": [],
   "source": [
    "# pass best estimator model into a variable\n",
    "gs1_model = gs1.best_estimator_"
   ]
  },
  {
   "cell_type": "code",
   "execution_count": 23,
   "id": "eeee1884",
   "metadata": {},
   "outputs": [],
   "source": [
    "# set variables to access the model steps by name \n",
    "transformer1 = gs1_model.named_steps['cvec']\n",
    "estimator1 = gs1_model.named_steps['nb']"
   ]
  },
  {
   "cell_type": "code",
   "execution_count": 24,
   "id": "b680340d",
   "metadata": {},
   "outputs": [],
   "source": [
    "# create a dataframe to store feature name against difference in the log probabilities between the two classes\n",
    "df1 = pd.DataFrame()\n",
    "df1['feature'] = transformer1.get_feature_names()\n",
    "df1['log_prob_diff'] = estimator1.feature_log_prob_[1,:] - estimator1.feature_log_prob_[0,:]"
   ]
  },
  {
   "cell_type": "code",
   "execution_count": 25,
   "id": "da4c2ace",
   "metadata": {},
   "outputs": [
    {
     "data": {
      "text/html": [
       "<div>\n",
       "<style scoped>\n",
       "    .dataframe tbody tr th:only-of-type {\n",
       "        vertical-align: middle;\n",
       "    }\n",
       "\n",
       "    .dataframe tbody tr th {\n",
       "        vertical-align: top;\n",
       "    }\n",
       "\n",
       "    .dataframe thead th {\n",
       "        text-align: right;\n",
       "    }\n",
       "</style>\n",
       "<table border=\"1\" class=\"dataframe\">\n",
       "  <thead>\n",
       "    <tr style=\"text-align: right;\">\n",
       "      <th></th>\n",
       "      <th>feature</th>\n",
       "      <th>log_prob_diff</th>\n",
       "    </tr>\n",
       "  </thead>\n",
       "  <tbody>\n",
       "    <tr>\n",
       "      <th>2168</th>\n",
       "      <td>oolong</td>\n",
       "      <td>5.443423</td>\n",
       "    </tr>\n",
       "    <tr>\n",
       "      <th>2467</th>\n",
       "      <td>puerh</td>\n",
       "      <td>4.612846</td>\n",
       "    </tr>\n",
       "    <tr>\n",
       "      <th>2761</th>\n",
       "      <td>sencha</td>\n",
       "      <td>4.519320</td>\n",
       "    </tr>\n",
       "    <tr>\n",
       "      <th>1648</th>\n",
       "      <td>jasmine</td>\n",
       "      <td>4.442947</td>\n",
       "    </tr>\n",
       "    <tr>\n",
       "      <th>515</th>\n",
       "      <td>china</td>\n",
       "      <td>4.442947</td>\n",
       "    </tr>\n",
       "    <tr>\n",
       "      <th>1900</th>\n",
       "      <td>matcha</td>\n",
       "      <td>4.366620</td>\n",
       "    </tr>\n",
       "    <tr>\n",
       "      <th>1456</th>\n",
       "      <td>herbal</td>\n",
       "      <td>4.360255</td>\n",
       "    </tr>\n",
       "    <tr>\n",
       "      <th>3146</th>\n",
       "      <td>teapot</td>\n",
       "      <td>4.273592</td>\n",
       "    </tr>\n",
       "    <tr>\n",
       "      <th>942</th>\n",
       "      <td>earl</td>\n",
       "      <td>4.270104</td>\n",
       "    </tr>\n",
       "    <tr>\n",
       "      <th>1373</th>\n",
       "      <td>grey</td>\n",
       "      <td>4.238152</td>\n",
       "    </tr>\n",
       "  </tbody>\n",
       "</table>\n",
       "</div>"
      ],
      "text/plain": [
       "      feature  log_prob_diff\n",
       "2168   oolong       5.443423\n",
       "2467    puerh       4.612846\n",
       "2761   sencha       4.519320\n",
       "1648  jasmine       4.442947\n",
       "515     china       4.442947\n",
       "1900   matcha       4.366620\n",
       "1456   herbal       4.360255\n",
       "3146   teapot       4.273592\n",
       "942      earl       4.270104\n",
       "1373     grey       4.238152"
      ]
     },
     "execution_count": 25,
     "metadata": {},
     "output_type": "execute_result"
    }
   ],
   "source": [
    "# print the top 10 features for tea\n",
    "df1.sort_values(by=['log_prob_diff'],ascending=False).head(10)"
   ]
  },
  {
   "cell_type": "code",
   "execution_count": 26,
   "id": "26b1eb76",
   "metadata": {},
   "outputs": [
    {
     "data": {
      "text/html": [
       "<div>\n",
       "<style scoped>\n",
       "    .dataframe tbody tr th:only-of-type {\n",
       "        vertical-align: middle;\n",
       "    }\n",
       "\n",
       "    .dataframe tbody tr th {\n",
       "        vertical-align: top;\n",
       "    }\n",
       "\n",
       "    .dataframe thead th {\n",
       "        text-align: right;\n",
       "    }\n",
       "</style>\n",
       "<table border=\"1\" class=\"dataframe\">\n",
       "  <thead>\n",
       "    <tr style=\"text-align: right;\">\n",
       "      <th></th>\n",
       "      <th>feature</th>\n",
       "      <th>log_prob_diff</th>\n",
       "    </tr>\n",
       "  </thead>\n",
       "  <tbody>\n",
       "    <tr>\n",
       "      <th>1853</th>\n",
       "      <td>machine</td>\n",
       "      <td>-5.626614</td>\n",
       "    </tr>\n",
       "    <tr>\n",
       "      <th>1375</th>\n",
       "      <td>grinder</td>\n",
       "      <td>-5.529501</td>\n",
       "    </tr>\n",
       "    <tr>\n",
       "      <th>1374</th>\n",
       "      <td>grind</td>\n",
       "      <td>-5.368343</td>\n",
       "    </tr>\n",
       "    <tr>\n",
       "      <th>390</th>\n",
       "      <td>burr</td>\n",
       "      <td>-4.429786</td>\n",
       "    </tr>\n",
       "    <tr>\n",
       "      <th>1022</th>\n",
       "      <td>espresso</td>\n",
       "      <td>-4.314601</td>\n",
       "    </tr>\n",
       "    <tr>\n",
       "      <th>55</th>\n",
       "      <td>aeropress</td>\n",
       "      <td>-4.297200</td>\n",
       "    </tr>\n",
       "    <tr>\n",
       "      <th>257</th>\n",
       "      <td>bean</td>\n",
       "      <td>-4.243103</td>\n",
       "    </tr>\n",
       "    <tr>\n",
       "      <th>2001</th>\n",
       "      <td>moka</td>\n",
       "      <td>-4.155262</td>\n",
       "    </tr>\n",
       "    <tr>\n",
       "      <th>2655</th>\n",
       "      <td>roaster</td>\n",
       "      <td>-4.027626</td>\n",
       "    </tr>\n",
       "    <tr>\n",
       "      <th>1380</th>\n",
       "      <td>ground</td>\n",
       "      <td>-3.721065</td>\n",
       "    </tr>\n",
       "  </tbody>\n",
       "</table>\n",
       "</div>"
      ],
      "text/plain": [
       "        feature  log_prob_diff\n",
       "1853    machine      -5.626614\n",
       "1375    grinder      -5.529501\n",
       "1374      grind      -5.368343\n",
       "390        burr      -4.429786\n",
       "1022   espresso      -4.314601\n",
       "55    aeropress      -4.297200\n",
       "257        bean      -4.243103\n",
       "2001       moka      -4.155262\n",
       "2655    roaster      -4.027626\n",
       "1380     ground      -3.721065"
      ]
     },
     "execution_count": 26,
     "metadata": {},
     "output_type": "execute_result"
    }
   ],
   "source": [
    "# print the top 10 features for coffee\n",
    "df1.sort_values(by=['log_prob_diff'],ascending=True).head(10)"
   ]
  },
  {
   "cell_type": "markdown",
   "id": "a6bf65b3",
   "metadata": {},
   "source": [
    "### Model 2: TF-IDF Vectorizer & Multinomial Naive Bayes"
   ]
  },
  {
   "cell_type": "code",
   "execution_count": 27,
   "id": "d9346bcb",
   "metadata": {},
   "outputs": [],
   "source": [
    "# set pipeline and parameters \n",
    "pipe2 = Pipeline([\n",
    "                ('tf', TfidfVectorizer()),\n",
    "                ('nb', MultinomialNB())\n",
    "])\n",
    "\n",
    "# gridsearchcv done on several parameters, and found the optimal values as follows:\n",
    "params2 = {\n",
    "                'tf__max_features' : [3_000], #[3_000,5_000, 7_000]\n",
    "                'tf__ngram_range' : [(1,2)], #[(1,1), (1,2)]\n",
    "                'nb__alpha' : [0.5] #np.arange(0.5,1.5,.1)\n",
    "}"
   ]
  },
  {
   "cell_type": "code",
   "execution_count": 28,
   "id": "c6f84b79",
   "metadata": {},
   "outputs": [],
   "source": [
    "# set gridsearch\n",
    "gs2 = GridSearchCV(pipe2, param_grid = params2, cv = 5,n_jobs=-1)"
   ]
  },
  {
   "cell_type": "code",
   "execution_count": 29,
   "id": "9399fb66",
   "metadata": {},
   "outputs": [
    {
     "data": {
      "text/plain": [
       "GridSearchCV(cv=5,\n",
       "             estimator=Pipeline(steps=[('tf', TfidfVectorizer()),\n",
       "                                       ('nb', MultinomialNB())]),\n",
       "             n_jobs=-1,\n",
       "             param_grid={'nb__alpha': [0.5], 'tf__max_features': [3000],\n",
       "                         'tf__ngram_range': [(1, 2)]})"
      ]
     },
     "execution_count": 29,
     "metadata": {},
     "output_type": "execute_result"
    }
   ],
   "source": [
    "# fit train set to gridsearch, pipe and params\n",
    "gs2.fit(X_train, y_train)"
   ]
  },
  {
   "cell_type": "code",
   "execution_count": 30,
   "id": "d75ec939",
   "metadata": {},
   "outputs": [
    {
     "name": "stdout",
     "output_type": "stream",
     "text": [
      "Mean cross-val score of the best_estimator for model 2: 0.8751921364251081.\n",
      "Best parameters for model 2: {'nb__alpha': 0.5, 'tf__max_features': 3000, 'tf__ngram_range': (1, 2)}.\n"
     ]
    }
   ],
   "source": [
    "# derive the best score and best parameters\n",
    "print(f'Mean cross-val score of the best_estimator for model 2: {gs2.best_score_}.') \n",
    "print(f'Best parameters for model 2: {gs2.best_params_}.')"
   ]
  },
  {
   "cell_type": "code",
   "execution_count": 31,
   "id": "39c71897",
   "metadata": {},
   "outputs": [
    {
     "name": "stdout",
     "output_type": "stream",
     "text": [
      "Train score: 0.9507273580478649\n",
      "Test score: 0.8565400843881856\n"
     ]
    }
   ],
   "source": [
    "# Score model on train and test sets.\n",
    "print(f'Train score: {gs2.score(X_train, y_train)}')\n",
    "print(f'Test score: {gs2.score(X_test, y_test)}')"
   ]
  },
  {
   "cell_type": "code",
   "execution_count": 32,
   "id": "0703e774",
   "metadata": {},
   "outputs": [],
   "source": [
    "# get predictions\n",
    "preds2 = gs2.predict(X_test)"
   ]
  },
  {
   "cell_type": "code",
   "execution_count": 33,
   "id": "f99f8b11",
   "metadata": {},
   "outputs": [],
   "source": [
    "# save confusion matrix values\n",
    "cm2 = confusion_matrix(y_test, preds2)\n",
    "tn2, fp2, fn2, tp2 = confusion_matrix(y_test, preds2).ravel()"
   ]
  },
  {
   "cell_type": "code",
   "execution_count": 34,
   "id": "98eb6cb6",
   "metadata": {},
   "outputs": [],
   "source": [
    "# calculate classification metrics \n",
    "score2 = gs2.score(X_test, y_test) # accuracy score\n",
    "prec2 = precision_score(y_test, preds2) # precision score\n",
    "rec2 = recall_score(y_test, preds2) # recall/sensitivity score\n",
    "spec2 = tn2 / (tn2 + fp2) # specificity score"
   ]
  },
  {
   "cell_type": "code",
   "execution_count": 35,
   "id": "92d13b8e",
   "metadata": {},
   "outputs": [],
   "source": [
    "# Create modified labels for confusion matrix\n",
    "modified_cm2 = []\n",
    "for index,value in enumerate(cm2):\n",
    "    if index == 0:\n",
    "        modified_cm2.append(['TN = ' + str(value[0]), 'FP = ' + str(value[1])])\n",
    "    if index == 1:\n",
    "        modified_cm2.append(['FN = ' + str(value[0]), 'TP = ' + str(value[1])])   "
   ]
  },
  {
   "cell_type": "code",
   "execution_count": 36,
   "id": "b76f7cee",
   "metadata": {},
   "outputs": [
    {
     "data": {
      "text/plain": [
       "Text(0.5, 1.05, 'Confusion Matrix for Model 2: TF-IDF Vectorizer x Multinomial Naive Bayes')"
      ]
     },
     "execution_count": 36,
     "metadata": {},
     "output_type": "execute_result"
    },
    {
     "data": {
      "image/png": "[encoded data removed]",
      "text/plain": [
       "<Figure size 432x432 with 2 Axes>"
      ]
     },
     "metadata": {
      "needs_background": "light"
     },
     "output_type": "display_data"
    }
   ],
   "source": [
    "# plot confusion matrix\n",
    "plt.figure(figsize=(6,6))\n",
    "sns.heatmap(cm2, annot=np.array(modified_cm2),\n",
    "            fmt=\"\",\n",
    "            annot_kws={\"size\": 12},\n",
    "            linewidths=.5,\n",
    "            square = True,\n",
    "            cmap = 'Reds',\n",
    "            xticklabels = ['coffee', 'tea'],\n",
    "            yticklabels = ['coffee', 'tea'],\n",
    "            );\n",
    "\n",
    "plt.ylabel('Actual label', fontsize = 12);\n",
    "plt.xlabel('Predicted label', fontsize = 12);\n",
    "plt.title('Accuracy: {:.2f}'.format(score2)+'\\n'\n",
    "          +'Precision: {:.2f}'.format(prec2)+'\\n'\n",
    "          +'Recall: {:.2f}'.format(rec2)+'\\n'\n",
    "          + 'Specificity: {:.2f}'.format(spec2)+'\\n', size = 12);\n",
    "plt.tick_params(labelsize= 12)\n",
    "plt.suptitle('Confusion Matrix for Model 2: TF-IDF Vectorizer x Multinomial Naive Bayes', y = 1.05,fontsize=14)"
   ]
  },
  {
   "cell_type": "markdown",
   "id": "a4144d42",
   "metadata": {},
   "source": [
    "### Model 2: Feature Importance"
   ]
  },
  {
   "cell_type": "code",
   "execution_count": 37,
   "id": "552ff60f",
   "metadata": {},
   "outputs": [],
   "source": [
    "# pass best estimator model into a variable\n",
    "gs2_model = gs2.best_estimator_"
   ]
  },
  {
   "cell_type": "code",
   "execution_count": 38,
   "id": "ed412090",
   "metadata": {},
   "outputs": [],
   "source": [
    "# set variables to access the model steps by name \n",
    "transformer2 = gs2_model.named_steps['tf']\n",
    "estimator2 = gs2_model.named_steps['nb']"
   ]
  },
  {
   "cell_type": "code",
   "execution_count": 39,
   "id": "273e14b9",
   "metadata": {},
   "outputs": [],
   "source": [
    "# create a dataframe to store feature names against difference in the log probabilities between the two classes\n",
    "df2 = pd.DataFrame()\n",
    "df2['feature'] = transformer2.get_feature_names()\n",
    "df2['log_prob_diff'] = estimator2.feature_log_prob_[1,:] - estimator2.feature_log_prob_[0,:]"
   ]
  },
  {
   "cell_type": "code",
   "execution_count": 40,
   "id": "138752e9",
   "metadata": {},
   "outputs": [
    {
     "data": {
      "text/html": [
       "<div>\n",
       "<style scoped>\n",
       "    .dataframe tbody tr th:only-of-type {\n",
       "        vertical-align: middle;\n",
       "    }\n",
       "\n",
       "    .dataframe tbody tr th {\n",
       "        vertical-align: top;\n",
       "    }\n",
       "\n",
       "    .dataframe thead th {\n",
       "        text-align: right;\n",
       "    }\n",
       "</style>\n",
       "<table border=\"1\" class=\"dataframe\">\n",
       "  <thead>\n",
       "    <tr style=\"text-align: right;\">\n",
       "      <th></th>\n",
       "      <th>feature</th>\n",
       "      <th>log_prob_diff</th>\n",
       "    </tr>\n",
       "  </thead>\n",
       "  <tbody>\n",
       "    <tr>\n",
       "      <th>1851</th>\n",
       "      <td>oolong</td>\n",
       "      <td>3.962467</td>\n",
       "    </tr>\n",
       "    <tr>\n",
       "      <th>2618</th>\n",
       "      <td>teapot</td>\n",
       "      <td>3.497795</td>\n",
       "    </tr>\n",
       "    <tr>\n",
       "      <th>1141</th>\n",
       "      <td>green</td>\n",
       "      <td>3.313198</td>\n",
       "    </tr>\n",
       "    <tr>\n",
       "      <th>1545</th>\n",
       "      <td>loose leaf</td>\n",
       "      <td>3.295272</td>\n",
       "    </tr>\n",
       "    <tr>\n",
       "      <th>1474</th>\n",
       "      <td>leaf</td>\n",
       "      <td>3.236636</td>\n",
       "    </tr>\n",
       "    <tr>\n",
       "      <th>2313</th>\n",
       "      <td>sencha</td>\n",
       "      <td>3.230257</td>\n",
       "    </tr>\n",
       "    <tr>\n",
       "      <th>2064</th>\n",
       "      <td>puerh</td>\n",
       "      <td>3.199478</td>\n",
       "    </tr>\n",
       "    <tr>\n",
       "      <th>1544</th>\n",
       "      <td>loose</td>\n",
       "      <td>3.116338</td>\n",
       "    </tr>\n",
       "    <tr>\n",
       "      <th>425</th>\n",
       "      <td>chamomile</td>\n",
       "      <td>2.938115</td>\n",
       "    </tr>\n",
       "    <tr>\n",
       "      <th>1181</th>\n",
       "      <td>gyokuro</td>\n",
       "      <td>2.914655</td>\n",
       "    </tr>\n",
       "  </tbody>\n",
       "</table>\n",
       "</div>"
      ],
      "text/plain": [
       "         feature  log_prob_diff\n",
       "1851      oolong       3.962467\n",
       "2618      teapot       3.497795\n",
       "1141       green       3.313198\n",
       "1545  loose leaf       3.295272\n",
       "1474        leaf       3.236636\n",
       "2313      sencha       3.230257\n",
       "2064       puerh       3.199478\n",
       "1544       loose       3.116338\n",
       "425    chamomile       2.938115\n",
       "1181     gyokuro       2.914655"
      ]
     },
     "execution_count": 40,
     "metadata": {},
     "output_type": "execute_result"
    }
   ],
   "source": [
    "# print the top 10 features for tea\n",
    "df2.sort_values(by=['log_prob_diff'],ascending=False).head(10)"
   ]
  },
  {
   "cell_type": "code",
   "execution_count": 41,
   "id": "1ea250d3",
   "metadata": {},
   "outputs": [
    {
     "data": {
      "text/html": [
       "<div>\n",
       "<style scoped>\n",
       "    .dataframe tbody tr th:only-of-type {\n",
       "        vertical-align: middle;\n",
       "    }\n",
       "\n",
       "    .dataframe tbody tr th {\n",
       "        vertical-align: top;\n",
       "    }\n",
       "\n",
       "    .dataframe thead th {\n",
       "        text-align: right;\n",
       "    }\n",
       "</style>\n",
       "<table border=\"1\" class=\"dataframe\">\n",
       "  <thead>\n",
       "    <tr style=\"text-align: right;\">\n",
       "      <th></th>\n",
       "      <th>feature</th>\n",
       "      <th>log_prob_diff</th>\n",
       "    </tr>\n",
       "  </thead>\n",
       "  <tbody>\n",
       "    <tr>\n",
       "      <th>1565</th>\n",
       "      <td>machine</td>\n",
       "      <td>-3.949948</td>\n",
       "    </tr>\n",
       "    <tr>\n",
       "      <th>1153</th>\n",
       "      <td>grinder</td>\n",
       "      <td>-3.820902</td>\n",
       "    </tr>\n",
       "    <tr>\n",
       "      <th>806</th>\n",
       "      <td>espresso</td>\n",
       "      <td>-3.739900</td>\n",
       "    </tr>\n",
       "    <tr>\n",
       "      <th>1144</th>\n",
       "      <td>grind</td>\n",
       "      <td>-3.658280</td>\n",
       "    </tr>\n",
       "    <tr>\n",
       "      <th>217</th>\n",
       "      <td>bean</td>\n",
       "      <td>-3.507042</td>\n",
       "    </tr>\n",
       "    <tr>\n",
       "      <th>350</th>\n",
       "      <td>burr</td>\n",
       "      <td>-3.041425</td>\n",
       "    </tr>\n",
       "    <tr>\n",
       "      <th>1167</th>\n",
       "      <td>ground</td>\n",
       "      <td>-2.974716</td>\n",
       "    </tr>\n",
       "    <tr>\n",
       "      <th>47</th>\n",
       "      <td>aeropress</td>\n",
       "      <td>-2.929062</td>\n",
       "    </tr>\n",
       "    <tr>\n",
       "      <th>811</th>\n",
       "      <td>espresso machine</td>\n",
       "      <td>-2.864322</td>\n",
       "    </tr>\n",
       "    <tr>\n",
       "      <th>1708</th>\n",
       "      <td>moka</td>\n",
       "      <td>-2.824374</td>\n",
       "    </tr>\n",
       "  </tbody>\n",
       "</table>\n",
       "</div>"
      ],
      "text/plain": [
       "               feature  log_prob_diff\n",
       "1565           machine      -3.949948\n",
       "1153           grinder      -3.820902\n",
       "806           espresso      -3.739900\n",
       "1144             grind      -3.658280\n",
       "217               bean      -3.507042\n",
       "350               burr      -3.041425\n",
       "1167            ground      -2.974716\n",
       "47           aeropress      -2.929062\n",
       "811   espresso machine      -2.864322\n",
       "1708              moka      -2.824374"
      ]
     },
     "execution_count": 41,
     "metadata": {},
     "output_type": "execute_result"
    }
   ],
   "source": [
    "# print the top 10 features for coffee\n",
    "df2.sort_values(by=['log_prob_diff'],ascending=True).head(10)"
   ]
  },
  {
   "cell_type": "markdown",
   "id": "6295fe55",
   "metadata": {},
   "source": [
    "### Model 3: TF-IDF Vectorizer & Logistic Regression"
   ]
  },
  {
   "cell_type": "code",
   "execution_count": 42,
   "id": "8aa51656",
   "metadata": {},
   "outputs": [],
   "source": [
    "# set pipeline and parameters \n",
    "pipe3 = Pipeline([\n",
    "                ('tf', TfidfVectorizer()),\n",
    "                ('lr', LogisticRegression(max_iter=5_000))\n",
    "])\n",
    "\n",
    "# gridsearchcv done on several parameters, and found the optimal values as follows:\n",
    "params3 = {\n",
    "                'tf__max_features' : [5_000], #[3_000,5_000, 7_000]\n",
    "                'tf__ngram_range' : [(1,2)], #[(1,1), (1,2)]\n",
    "                'lr__solver' : ['liblinear'], #['liblinear','lbfgs']\n",
    "                'lr__penalty' : ['l2'] #['l1','l2']\n",
    "}"
   ]
  },
  {
   "cell_type": "code",
   "execution_count": 43,
   "id": "40f4afca",
   "metadata": {},
   "outputs": [],
   "source": [
    "# set gridsearch\n",
    "gs3 = GridSearchCV(pipe3, param_grid = params3, cv = 5,n_jobs=-1)"
   ]
  },
  {
   "cell_type": "code",
   "execution_count": 44,
   "id": "27b0500b",
   "metadata": {
    "scrolled": true
   },
   "outputs": [
    {
     "data": {
      "text/plain": [
       "GridSearchCV(cv=5,\n",
       "             estimator=Pipeline(steps=[('tf', TfidfVectorizer()),\n",
       "                                       ('lr',\n",
       "                                        LogisticRegression(max_iter=5000))]),\n",
       "             n_jobs=-1,\n",
       "             param_grid={'lr__penalty': ['l2'], 'lr__solver': ['liblinear'],\n",
       "                         'tf__max_features': [5000],\n",
       "                         'tf__ngram_range': [(1, 2)]})"
      ]
     },
     "execution_count": 44,
     "metadata": {},
     "output_type": "execute_result"
    }
   ],
   "source": [
    "# fit train set to grisearch, pipe, parameters\n",
    "gs3.fit(X_train, y_train)"
   ]
  },
  {
   "cell_type": "code",
   "execution_count": 45,
   "id": "ed49b9ce",
   "metadata": {},
   "outputs": [
    {
     "name": "stdout",
     "output_type": "stream",
     "text": [
      "Mean cross-val score of the best_estimator for model 3: 0.8789436069971742.\n",
      "Best parameters for model 3: {'lr__penalty': 'l2', 'lr__solver': 'liblinear', 'tf__max_features': 5000, 'tf__ngram_range': (1, 2)}.\n"
     ]
    }
   ],
   "source": [
    "# derive the best score and best parameters\n",
    "print(f'Mean cross-val score of the best_estimator for model 3: {gs3.best_score_}.') \n",
    "print(f'Best parameters for model 3: {gs3.best_params_}.')"
   ]
  },
  {
   "cell_type": "code",
   "execution_count": 46,
   "id": "68571cb5",
   "metadata": {},
   "outputs": [
    {
     "name": "stdout",
     "output_type": "stream",
     "text": [
      "Train score: 0.9648052557484749\n",
      "Test score: 0.8663853727144867\n"
     ]
    }
   ],
   "source": [
    "# score model on train & test sets\n",
    "print(f'Train score: {gs3.score(X_train, y_train)}')\n",
    "print(f'Test score: {gs3.score(X_test, y_test)}')"
   ]
  },
  {
   "cell_type": "code",
   "execution_count": 47,
   "id": "908bcac3",
   "metadata": {},
   "outputs": [],
   "source": [
    "# get predictions\n",
    "preds3 = gs3.predict(X_test)"
   ]
  },
  {
   "cell_type": "code",
   "execution_count": 48,
   "id": "bb90a826",
   "metadata": {},
   "outputs": [],
   "source": [
    "# save confusion matrix values\n",
    "cm3 = confusion_matrix(y_test, preds3)\n",
    "tn3, fp3, fn3, tp3 = confusion_matrix(y_test, preds3).ravel()"
   ]
  },
  {
   "cell_type": "code",
   "execution_count": 49,
   "id": "0711d3ed",
   "metadata": {},
   "outputs": [],
   "source": [
    "# calculate classification metrics \n",
    "score3 = gs3.score(X_test, y_test) # accuracy score\n",
    "prec3 = precision_score(y_test, preds3) # precision score\n",
    "rec3 = recall_score(y_test, preds3) # recall/sensitivity score\n",
    "spec3 = tn3 / (tn3 + fp3) # specificity score"
   ]
  },
  {
   "cell_type": "code",
   "execution_count": 50,
   "id": "ac17d83e",
   "metadata": {},
   "outputs": [],
   "source": [
    "# create modified labels for confusion matrix\n",
    "modified_cm3 = []\n",
    "for index,value in enumerate(cm3):\n",
    "    if index == 0:\n",
    "        modified_cm3.append(['TN = ' + str(value[0]), 'FP = ' + str(value[1])])\n",
    "    if index == 1:\n",
    "        modified_cm3.append(['FN = ' + str(value[0]), 'TP = ' + str(value[1])])   "
   ]
  },
  {
   "cell_type": "code",
   "execution_count": 51,
   "id": "bce75b71",
   "metadata": {},
   "outputs": [
    {
     "data": {
      "text/plain": [
       "Text(0.5, 1.05, 'Confusion Matrix for Model 3: TD-IDF Vectorizer x Logistic Regression')"
      ]
     },
     "execution_count": 51,
     "metadata": {},
     "output_type": "execute_result"
    },
    {
     "data": {
      "image/png": "[encoded data removed]",
      "text/plain": [
       "<Figure size 432x432 with 2 Axes>"
      ]
     },
     "metadata": {
      "needs_background": "light"
     },
     "output_type": "display_data"
    }
   ],
   "source": [
    "# plot confusion matrix\n",
    "plt.figure(figsize=(6,6))\n",
    "sns.heatmap(cm3, annot=np.array(modified_cm3),\n",
    "            fmt=\"\",\n",
    "            annot_kws={\"size\": 12},\n",
    "            linewidths=.5,\n",
    "            square = True,\n",
    "            cmap = 'Reds',\n",
    "            xticklabels = ['coffee', 'tea'],\n",
    "            yticklabels = ['coffee', 'tea'],\n",
    "            );\n",
    "\n",
    "plt.ylabel('Actual label', fontsize = 12);\n",
    "plt.xlabel('Predicted label', fontsize = 12);\n",
    "plt.title('Accuracy: {:.2f}'.format(score3)+'\\n'\n",
    "          +'Precision: {:.2f}'.format(prec3)+'\\n'\n",
    "          +'Recall: {:.2f}'.format(rec3)+'\\n'\n",
    "          + 'Specificity: {:.2f}'.format(spec3)+'\\n', size = 12);\n",
    "plt.tick_params(labelsize= 12)\n",
    "plt.suptitle('Confusion Matrix for Model 3: TD-IDF Vectorizer x Logistic Regression', y = 1.05,fontsize=14)"
   ]
  },
  {
   "cell_type": "markdown",
   "id": "7a8f1b2b",
   "metadata": {},
   "source": [
    "### Model 3: Feature Importance"
   ]
  },
  {
   "cell_type": "code",
   "execution_count": 52,
   "id": "f76eb15d",
   "metadata": {},
   "outputs": [],
   "source": [
    "# pass best estimator model into a variable\n",
    "gs3_model = gs3.best_estimator_"
   ]
  },
  {
   "cell_type": "code",
   "execution_count": 53,
   "id": "72bb0321",
   "metadata": {},
   "outputs": [],
   "source": [
    "# set variables to access the model steps by name \n",
    "transformer3 = gs3_model.named_steps['tf']\n",
    "estimator3 = gs3_model.named_steps['lr']"
   ]
  },
  {
   "cell_type": "code",
   "execution_count": 54,
   "id": "8a88496c",
   "metadata": {},
   "outputs": [],
   "source": [
    "# create a dataframe to store feature names against the exponential of their coefficients\n",
    "df3 = pd.DataFrame()\n",
    "df3['feature'] = transformer3.get_feature_names()\n",
    "df3['coefficient'] = estimator3.coef_.T\n",
    "df3['exp_coef'] = np.exp(df3['coefficient'])"
   ]
  },
  {
   "cell_type": "code",
   "execution_count": 55,
   "id": "851268fe",
   "metadata": {},
   "outputs": [
    {
     "data": {
      "text/html": [
       "<div>\n",
       "<style scoped>\n",
       "    .dataframe tbody tr th:only-of-type {\n",
       "        vertical-align: middle;\n",
       "    }\n",
       "\n",
       "    .dataframe tbody tr th {\n",
       "        vertical-align: top;\n",
       "    }\n",
       "\n",
       "    .dataframe thead th {\n",
       "        text-align: right;\n",
       "    }\n",
       "</style>\n",
       "<table border=\"1\" class=\"dataframe\">\n",
       "  <thead>\n",
       "    <tr style=\"text-align: right;\">\n",
       "      <th></th>\n",
       "      <th>feature</th>\n",
       "      <th>coefficient</th>\n",
       "      <th>exp_coef</th>\n",
       "    </tr>\n",
       "  </thead>\n",
       "  <tbody>\n",
       "    <tr>\n",
       "      <th>1939</th>\n",
       "      <td>green</td>\n",
       "      <td>3.193086</td>\n",
       "      <td>24.363495</td>\n",
       "    </tr>\n",
       "    <tr>\n",
       "      <th>2495</th>\n",
       "      <td>leaf</td>\n",
       "      <td>3.068149</td>\n",
       "      <td>21.502070</td>\n",
       "    </tr>\n",
       "    <tr>\n",
       "      <th>3160</th>\n",
       "      <td>oolong</td>\n",
       "      <td>2.611332</td>\n",
       "      <td>13.617180</td>\n",
       "    </tr>\n",
       "    <tr>\n",
       "      <th>4392</th>\n",
       "      <td>teapot</td>\n",
       "      <td>2.416570</td>\n",
       "      <td>11.207352</td>\n",
       "    </tr>\n",
       "    <tr>\n",
       "      <th>2764</th>\n",
       "      <td>matcha</td>\n",
       "      <td>2.205120</td>\n",
       "      <td>9.071340</td>\n",
       "    </tr>\n",
       "    <tr>\n",
       "      <th>3902</th>\n",
       "      <td>sencha</td>\n",
       "      <td>1.748505</td>\n",
       "      <td>5.746006</td>\n",
       "    </tr>\n",
       "    <tr>\n",
       "      <th>2593</th>\n",
       "      <td>loose</td>\n",
       "      <td>1.637350</td>\n",
       "      <td>5.141528</td>\n",
       "    </tr>\n",
       "    <tr>\n",
       "      <th>4214</th>\n",
       "      <td>steep</td>\n",
       "      <td>1.567721</td>\n",
       "      <td>4.795707</td>\n",
       "    </tr>\n",
       "    <tr>\n",
       "      <th>4836</th>\n",
       "      <td>white</td>\n",
       "      <td>1.513108</td>\n",
       "      <td>4.540821</td>\n",
       "    </tr>\n",
       "    <tr>\n",
       "      <th>2408</th>\n",
       "      <td>kettle</td>\n",
       "      <td>1.449290</td>\n",
       "      <td>4.260088</td>\n",
       "    </tr>\n",
       "  </tbody>\n",
       "</table>\n",
       "</div>"
      ],
      "text/plain": [
       "     feature  coefficient   exp_coef\n",
       "1939   green     3.193086  24.363495\n",
       "2495    leaf     3.068149  21.502070\n",
       "3160  oolong     2.611332  13.617180\n",
       "4392  teapot     2.416570  11.207352\n",
       "2764  matcha     2.205120   9.071340\n",
       "3902  sencha     1.748505   5.746006\n",
       "2593   loose     1.637350   5.141528\n",
       "4214   steep     1.567721   4.795707\n",
       "4836   white     1.513108   4.540821\n",
       "2408  kettle     1.449290   4.260088"
      ]
     },
     "execution_count": 55,
     "metadata": {},
     "output_type": "execute_result"
    }
   ],
   "source": [
    "# print the top 10 features for tea\n",
    "df3.sort_values(by=['coefficient'],ascending=False).head(10)"
   ]
  },
  {
   "cell_type": "code",
   "execution_count": 56,
   "id": "74e71b32",
   "metadata": {},
   "outputs": [
    {
     "data": {
      "text/html": [
       "<div>\n",
       "<style scoped>\n",
       "    .dataframe tbody tr th:only-of-type {\n",
       "        vertical-align: middle;\n",
       "    }\n",
       "\n",
       "    .dataframe tbody tr th {\n",
       "        vertical-align: top;\n",
       "    }\n",
       "\n",
       "    .dataframe thead th {\n",
       "        text-align: right;\n",
       "    }\n",
       "</style>\n",
       "<table border=\"1\" class=\"dataframe\">\n",
       "  <thead>\n",
       "    <tr style=\"text-align: right;\">\n",
       "      <th></th>\n",
       "      <th>feature</th>\n",
       "      <th>coefficient</th>\n",
       "      <th>exp_coef</th>\n",
       "    </tr>\n",
       "  </thead>\n",
       "  <tbody>\n",
       "    <tr>\n",
       "      <th>336</th>\n",
       "      <td>bean</td>\n",
       "      <td>-4.039459</td>\n",
       "      <td>0.017607</td>\n",
       "    </tr>\n",
       "    <tr>\n",
       "      <th>2642</th>\n",
       "      <td>machine</td>\n",
       "      <td>-3.858870</td>\n",
       "      <td>0.021092</td>\n",
       "    </tr>\n",
       "    <tr>\n",
       "      <th>1338</th>\n",
       "      <td>espresso</td>\n",
       "      <td>-3.653906</td>\n",
       "      <td>0.025890</td>\n",
       "    </tr>\n",
       "    <tr>\n",
       "      <th>1969</th>\n",
       "      <td>grinder</td>\n",
       "      <td>-3.220058</td>\n",
       "      <td>0.039953</td>\n",
       "    </tr>\n",
       "    <tr>\n",
       "      <th>1950</th>\n",
       "      <td>grind</td>\n",
       "      <td>-2.751581</td>\n",
       "      <td>0.063827</td>\n",
       "    </tr>\n",
       "    <tr>\n",
       "      <th>3750</th>\n",
       "      <td>roast</td>\n",
       "      <td>-2.354577</td>\n",
       "      <td>0.094934</td>\n",
       "    </tr>\n",
       "    <tr>\n",
       "      <th>1995</th>\n",
       "      <td>ground</td>\n",
       "      <td>-2.184936</td>\n",
       "      <td>0.112485</td>\n",
       "    </tr>\n",
       "    <tr>\n",
       "      <th>2727</th>\n",
       "      <td>maker</td>\n",
       "      <td>-2.166135</td>\n",
       "      <td>0.114620</td>\n",
       "    </tr>\n",
       "    <tr>\n",
       "      <th>3765</th>\n",
       "      <td>roaster</td>\n",
       "      <td>-1.993205</td>\n",
       "      <td>0.136258</td>\n",
       "    </tr>\n",
       "    <tr>\n",
       "      <th>601</th>\n",
       "      <td>burr</td>\n",
       "      <td>-1.891399</td>\n",
       "      <td>0.150861</td>\n",
       "    </tr>\n",
       "  </tbody>\n",
       "</table>\n",
       "</div>"
      ],
      "text/plain": [
       "       feature  coefficient  exp_coef\n",
       "336       bean    -4.039459  0.017607\n",
       "2642   machine    -3.858870  0.021092\n",
       "1338  espresso    -3.653906  0.025890\n",
       "1969   grinder    -3.220058  0.039953\n",
       "1950     grind    -2.751581  0.063827\n",
       "3750     roast    -2.354577  0.094934\n",
       "1995    ground    -2.184936  0.112485\n",
       "2727     maker    -2.166135  0.114620\n",
       "3765   roaster    -1.993205  0.136258\n",
       "601       burr    -1.891399  0.150861"
      ]
     },
     "execution_count": 56,
     "metadata": {},
     "output_type": "execute_result"
    }
   ],
   "source": [
    "# print the top 10 features for coffee\n",
    "df3.sort_values(by=['coefficient'],ascending=True).head(10)"
   ]
  },
  {
   "cell_type": "markdown",
   "id": "fd2a94e5",
   "metadata": {},
   "source": [
    "### Model 4: Count Vectorizer & Logistic Regression"
   ]
  },
  {
   "cell_type": "code",
   "execution_count": 57,
   "id": "a8b24554",
   "metadata": {},
   "outputs": [],
   "source": [
    "# set pipeline and parameters \n",
    "pipe4 = Pipeline([\n",
    "    ('cvec',CountVectorizer()),\n",
    "    ('lr', LogisticRegression(max_iter=3_000))\n",
    "])\n",
    "\n",
    "# gridsearchcv done on several parameters, and found the optimal values as follows:\n",
    "params4 = {\n",
    "    'cvec__max_features': [3_000], #[3_000,5_000, 7_000]\n",
    "    'cvec__min_df': [2], #[2, 3]\n",
    "    'cvec__max_df': [0.9], #[0.9, 0.95]\n",
    "    'cvec__ngram_range': [(1,1)], #[(1,1), (1,2)]\n",
    "    'lr__solver' : ['liblinear'], #['liblinear','lbfgs']\n",
    "    'lr__penalty' : ['l2'] #['l1','l2']   \n",
    "}"
   ]
  },
  {
   "cell_type": "code",
   "execution_count": 58,
   "id": "4bd63bf4",
   "metadata": {},
   "outputs": [],
   "source": [
    "# set gridsearch\n",
    "gs4 = GridSearchCV(pipe4, \n",
    "                  param_grid=params4,\n",
    "                  cv=5,\n",
    "                  n_jobs=-1) "
   ]
  },
  {
   "cell_type": "code",
   "execution_count": 59,
   "id": "cc2cb51c",
   "metadata": {},
   "outputs": [
    {
     "data": {
      "text/plain": [
       "GridSearchCV(cv=5,\n",
       "             estimator=Pipeline(steps=[('cvec', CountVectorizer()),\n",
       "                                       ('lr',\n",
       "                                        LogisticRegression(max_iter=3000))]),\n",
       "             n_jobs=-1,\n",
       "             param_grid={'cvec__max_df': [0.9], 'cvec__max_features': [3000],\n",
       "                         'cvec__min_df': [2], 'cvec__ngram_range': [(1, 1)],\n",
       "                         'lr__penalty': ['l2'], 'lr__solver': ['liblinear']})"
      ]
     },
     "execution_count": 59,
     "metadata": {},
     "output_type": "execute_result"
    }
   ],
   "source": [
    "# fit train set to grisearch, pipe, parameters\n",
    "gs4.fit(X_train, y_train)"
   ]
  },
  {
   "cell_type": "code",
   "execution_count": 60,
   "id": "b0c24698",
   "metadata": {},
   "outputs": [
    {
     "name": "stdout",
     "output_type": "stream",
     "text": [
      "Mean cross-val score of the best_estimator for model 4: 0.867201020329628.\n",
      "Best parameters for model 4: {'cvec__max_df': 0.9, 'cvec__max_features': 3000, 'cvec__min_df': 2, 'cvec__ngram_range': (1, 1), 'lr__penalty': 'l2', 'lr__solver': 'liblinear'}.\n"
     ]
    }
   ],
   "source": [
    "# derive the best score and best parameters\n",
    "print(f'Mean cross-val score of the best_estimator for model 4: {gs4.best_score_}.') \n",
    "print(f'Best parameters for model 4: {gs4.best_params_}.')"
   ]
  },
  {
   "cell_type": "code",
   "execution_count": 61,
   "id": "932ba83e",
   "metadata": {},
   "outputs": [
    {
     "name": "stdout",
     "output_type": "stream",
     "text": [
      "Train score: 0.987329892069451\n",
      "Test score: 0.8523206751054853\n"
     ]
    }
   ],
   "source": [
    "# Score model on train and test sets\n",
    "print(f'Train score: {gs4.score(X_train, y_train)}')\n",
    "print(f'Test score: {gs4.score(X_test, y_test)}')"
   ]
  },
  {
   "cell_type": "code",
   "execution_count": 62,
   "id": "82d51c03",
   "metadata": {},
   "outputs": [],
   "source": [
    "# get predictions\n",
    "preds4 = gs4.predict(X_test)"
   ]
  },
  {
   "cell_type": "code",
   "execution_count": 63,
   "id": "bebb86df",
   "metadata": {},
   "outputs": [],
   "source": [
    "# save confusion matrix values\n",
    "cm4 = confusion_matrix(y_test, preds4)\n",
    "tn4, fp4, fn4, tp4 = confusion_matrix(y_test, preds4).ravel()"
   ]
  },
  {
   "cell_type": "code",
   "execution_count": 64,
   "id": "6a4f276b",
   "metadata": {},
   "outputs": [],
   "source": [
    "# calculate classification metrics\n",
    "score4 = gs4.score(X_test, y_test) # accuracy score\n",
    "prec4 = precision_score(y_test, preds4) # precision score\n",
    "rec4 = recall_score(y_test, preds4) # recall/sensitivity score\n",
    "spec4 = tn4 / (tn4 + fp4) # specificity score"
   ]
  },
  {
   "cell_type": "code",
   "execution_count": 65,
   "id": "29d11050",
   "metadata": {},
   "outputs": [],
   "source": [
    "# create modified labels for confusion matrix\n",
    "modified_cm4 = []\n",
    "for index,value in enumerate(cm4):\n",
    "    if index == 0:\n",
    "        modified_cm4.append(['TN = ' + str(value[0]), 'FP = ' + str(value[1])])\n",
    "    if index == 1:\n",
    "        modified_cm4.append(['FN = ' + str(value[0]), 'TP = ' + str(value[1])])   "
   ]
  },
  {
   "cell_type": "code",
   "execution_count": 66,
   "id": "88f5f597",
   "metadata": {},
   "outputs": [
    {
     "data": {
      "text/plain": [
       "Text(0.5, 1.05, 'Confusion Matrix for Model 4: Count Vectorizer x Logistic Regression')"
      ]
     },
     "execution_count": 66,
     "metadata": {},
     "output_type": "execute_result"
    },
    {
     "data": {
      "image/png": "[encoded data removed]",
      "text/plain": [
       "<Figure size 432x432 with 2 Axes>"
      ]
     },
     "metadata": {
      "needs_background": "light"
     },
     "output_type": "display_data"
    }
   ],
   "source": [
    "# plot confusion matrix\n",
    "plt.figure(figsize=(6,6))\n",
    "sns.heatmap(cm4, annot=np.array(modified_cm4),\n",
    "            fmt=\"\",\n",
    "            annot_kws={\"size\": 12},\n",
    "            linewidths=.5,\n",
    "            square = True,\n",
    "            cmap = 'Reds',\n",
    "            xticklabels = ['coffee', 'tea'],\n",
    "            yticklabels = ['coffee', 'tea'],\n",
    "            );\n",
    "\n",
    "plt.ylabel('Actual label', fontsize = 12);\n",
    "plt.xlabel('Predicted label', fontsize = 12);\n",
    "plt.title('Accuracy: {:.2f}'.format(score4)+'\\n'\n",
    "          +'Precision: {:.2f}'.format(prec4)+'\\n'\n",
    "          +'Recall: {:.2f}'.format(rec4)+'\\n'\n",
    "          + 'Specificity: {:.2f}'.format(spec4)+'\\n', size = 12);\n",
    "plt.tick_params(labelsize= 12)\n",
    "plt.suptitle('Confusion Matrix for Model 4: Count Vectorizer x Logistic Regression', y = 1.05,fontsize=14)"
   ]
  },
  {
   "cell_type": "markdown",
   "id": "3415ec26",
   "metadata": {},
   "source": [
    "### Model 4: Feature Importance"
   ]
  },
  {
   "cell_type": "code",
   "execution_count": 67,
   "id": "ba294fd7",
   "metadata": {},
   "outputs": [],
   "source": [
    "# pass best estimator model into a variable\n",
    "gs4_model = gs4.best_estimator_"
   ]
  },
  {
   "cell_type": "code",
   "execution_count": 68,
   "id": "e0c866d4",
   "metadata": {},
   "outputs": [],
   "source": [
    "# set variables to access the model steps by name \n",
    "transformer4 = gs4_model.named_steps['cvec']\n",
    "estimator4 = gs4_model.named_steps['lr']"
   ]
  },
  {
   "cell_type": "code",
   "execution_count": 69,
   "id": "cfad82d1",
   "metadata": {},
   "outputs": [],
   "source": [
    "# create a dataframe to store feature name against the exponential of their coefficients\n",
    "df4 = pd.DataFrame()\n",
    "df4['feature'] = transformer4.get_feature_names()\n",
    "df4['coefficient'] = estimator4.coef_.T\n",
    "df4['exp_coef'] = np.exp(df4['coefficient'])"
   ]
  },
  {
   "cell_type": "code",
   "execution_count": 70,
   "id": "55814989",
   "metadata": {},
   "outputs": [
    {
     "data": {
      "text/html": [
       "<div>\n",
       "<style scoped>\n",
       "    .dataframe tbody tr th:only-of-type {\n",
       "        vertical-align: middle;\n",
       "    }\n",
       "\n",
       "    .dataframe tbody tr th {\n",
       "        vertical-align: top;\n",
       "    }\n",
       "\n",
       "    .dataframe thead th {\n",
       "        text-align: right;\n",
       "    }\n",
       "</style>\n",
       "<table border=\"1\" class=\"dataframe\">\n",
       "  <thead>\n",
       "    <tr style=\"text-align: right;\">\n",
       "      <th></th>\n",
       "      <th>feature</th>\n",
       "      <th>coefficient</th>\n",
       "      <th>exp_coef</th>\n",
       "    </tr>\n",
       "  </thead>\n",
       "  <tbody>\n",
       "    <tr>\n",
       "      <th>1147</th>\n",
       "      <td>green</td>\n",
       "      <td>1.996876</td>\n",
       "      <td>7.366009</td>\n",
       "    </tr>\n",
       "    <tr>\n",
       "      <th>1446</th>\n",
       "      <td>leaf</td>\n",
       "      <td>1.668523</td>\n",
       "      <td>5.304329</td>\n",
       "    </tr>\n",
       "    <tr>\n",
       "      <th>1757</th>\n",
       "      <td>oolong</td>\n",
       "      <td>1.496690</td>\n",
       "      <td>4.466878</td>\n",
       "    </tr>\n",
       "    <tr>\n",
       "      <th>1553</th>\n",
       "      <td>matcha</td>\n",
       "      <td>1.455922</td>\n",
       "      <td>4.288435</td>\n",
       "    </tr>\n",
       "    <tr>\n",
       "      <th>2576</th>\n",
       "      <td>teapot</td>\n",
       "      <td>1.445799</td>\n",
       "      <td>4.245242</td>\n",
       "    </tr>\n",
       "    <tr>\n",
       "      <th>2218</th>\n",
       "      <td>sencha</td>\n",
       "      <td>1.247185</td>\n",
       "      <td>3.480531</td>\n",
       "    </tr>\n",
       "    <tr>\n",
       "      <th>1500</th>\n",
       "      <td>loose</td>\n",
       "      <td>1.134766</td>\n",
       "      <td>3.110445</td>\n",
       "    </tr>\n",
       "    <tr>\n",
       "      <th>144</th>\n",
       "      <td>assam</td>\n",
       "      <td>1.047300</td>\n",
       "      <td>2.849945</td>\n",
       "    </tr>\n",
       "    <tr>\n",
       "      <th>379</th>\n",
       "      <td>cha</td>\n",
       "      <td>1.002057</td>\n",
       "      <td>2.723880</td>\n",
       "    </tr>\n",
       "    <tr>\n",
       "      <th>380</th>\n",
       "      <td>chai</td>\n",
       "      <td>1.001071</td>\n",
       "      <td>2.721195</td>\n",
       "    </tr>\n",
       "  </tbody>\n",
       "</table>\n",
       "</div>"
      ],
      "text/plain": [
       "     feature  coefficient  exp_coef\n",
       "1147   green     1.996876  7.366009\n",
       "1446    leaf     1.668523  5.304329\n",
       "1757  oolong     1.496690  4.466878\n",
       "1553  matcha     1.455922  4.288435\n",
       "2576  teapot     1.445799  4.245242\n",
       "2218  sencha     1.247185  3.480531\n",
       "1500   loose     1.134766  3.110445\n",
       "144    assam     1.047300  2.849945\n",
       "379      cha     1.002057  2.723880\n",
       "380     chai     1.001071  2.721195"
      ]
     },
     "execution_count": 70,
     "metadata": {},
     "output_type": "execute_result"
    }
   ],
   "source": [
    "# top 10 features for tea\n",
    "df4.sort_values(by=['coefficient'],ascending=False).head(10)"
   ]
  },
  {
   "cell_type": "code",
   "execution_count": 71,
   "id": "ec7448eb",
   "metadata": {
    "scrolled": true
   },
   "outputs": [
    {
     "data": {
      "text/html": [
       "<div>\n",
       "<style scoped>\n",
       "    .dataframe tbody tr th:only-of-type {\n",
       "        vertical-align: middle;\n",
       "    }\n",
       "\n",
       "    .dataframe tbody tr th {\n",
       "        vertical-align: top;\n",
       "    }\n",
       "\n",
       "    .dataframe thead th {\n",
       "        text-align: right;\n",
       "    }\n",
       "</style>\n",
       "<table border=\"1\" class=\"dataframe\">\n",
       "  <thead>\n",
       "    <tr style=\"text-align: right;\">\n",
       "      <th></th>\n",
       "      <th>feature</th>\n",
       "      <th>coefficient</th>\n",
       "      <th>exp_coef</th>\n",
       "    </tr>\n",
       "  </thead>\n",
       "  <tbody>\n",
       "    <tr>\n",
       "      <th>854</th>\n",
       "      <td>espresso</td>\n",
       "      <td>-2.286403</td>\n",
       "      <td>0.101631</td>\n",
       "    </tr>\n",
       "    <tr>\n",
       "      <th>1521</th>\n",
       "      <td>machine</td>\n",
       "      <td>-2.272105</td>\n",
       "      <td>0.103095</td>\n",
       "    </tr>\n",
       "    <tr>\n",
       "      <th>201</th>\n",
       "      <td>bean</td>\n",
       "      <td>-2.158183</td>\n",
       "      <td>0.115535</td>\n",
       "    </tr>\n",
       "    <tr>\n",
       "      <th>1151</th>\n",
       "      <td>grinder</td>\n",
       "      <td>-1.778191</td>\n",
       "      <td>0.168943</td>\n",
       "    </tr>\n",
       "    <tr>\n",
       "      <th>1532</th>\n",
       "      <td>maker</td>\n",
       "      <td>-1.758553</td>\n",
       "      <td>0.172294</td>\n",
       "    </tr>\n",
       "    <tr>\n",
       "      <th>2130</th>\n",
       "      <td>roaster</td>\n",
       "      <td>-1.743619</td>\n",
       "      <td>0.174886</td>\n",
       "    </tr>\n",
       "    <tr>\n",
       "      <th>1154</th>\n",
       "      <td>ground</td>\n",
       "      <td>-1.675497</td>\n",
       "      <td>0.187215</td>\n",
       "    </tr>\n",
       "    <tr>\n",
       "      <th>2364</th>\n",
       "      <td>specialty</td>\n",
       "      <td>-1.516416</td>\n",
       "      <td>0.219497</td>\n",
       "    </tr>\n",
       "    <tr>\n",
       "      <th>1630</th>\n",
       "      <td>moka</td>\n",
       "      <td>-1.401287</td>\n",
       "      <td>0.246280</td>\n",
       "    </tr>\n",
       "    <tr>\n",
       "      <th>2406</th>\n",
       "      <td>starbucks</td>\n",
       "      <td>-1.256033</td>\n",
       "      <td>0.284782</td>\n",
       "    </tr>\n",
       "  </tbody>\n",
       "</table>\n",
       "</div>"
      ],
      "text/plain": [
       "        feature  coefficient  exp_coef\n",
       "854    espresso    -2.286403  0.101631\n",
       "1521    machine    -2.272105  0.103095\n",
       "201        bean    -2.158183  0.115535\n",
       "1151    grinder    -1.778191  0.168943\n",
       "1532      maker    -1.758553  0.172294\n",
       "2130    roaster    -1.743619  0.174886\n",
       "1154     ground    -1.675497  0.187215\n",
       "2364  specialty    -1.516416  0.219497\n",
       "1630       moka    -1.401287  0.246280\n",
       "2406  starbucks    -1.256033  0.284782"
      ]
     },
     "execution_count": 71,
     "metadata": {},
     "output_type": "execute_result"
    }
   ],
   "source": [
    "# top 10 features for coffee\n",
    "df4.sort_values(by=['coefficient'],ascending=True).head(10)"
   ]
  },
  {
   "cell_type": "markdown",
   "id": "9ad6d263",
   "metadata": {},
   "source": [
    "### Model 5: Count Vectorizer & Random Forest Classifier"
   ]
  },
  {
   "cell_type": "code",
   "execution_count": 72,
   "id": "7a2a959c",
   "metadata": {},
   "outputs": [],
   "source": [
    "# set pipeline and parameters\n",
    "pipe5 = Pipeline([\n",
    "    ('cvec',CountVectorizer()),\n",
    "    ('rf', RandomForestClassifier())\n",
    "])\n",
    "\n",
    "# gridsearchcv done on several parameters, and found the optimal values as follows:\n",
    "params5 = {\n",
    "    'cvec__max_features': [3_000], #[3_000,5_000, 7_000]\n",
    "    'cvec__min_df': [3], #[2, 3]\n",
    "    'cvec__max_df': [0.95], #[0.9, 0.95]\n",
    "    'cvec__ngram_range': [(1,1)], #[(1,1), (1,2)]\n",
    "    'rf__n_estimators': [150], #[100, 150]\n",
    "    'rf__max_depth': [None]  #[None, 1, 2, 3]\n",
    "}"
   ]
  },
  {
   "cell_type": "code",
   "execution_count": 73,
   "id": "f6a45b48",
   "metadata": {},
   "outputs": [],
   "source": [
    "# set gridsearch \n",
    "gs5 = GridSearchCV(pipe5,\n",
    "                  param_grid=params5,\n",
    "                  cv=5,\n",
    "                  n_jobs=-1)"
   ]
  },
  {
   "cell_type": "code",
   "execution_count": 74,
   "id": "3b6f6699",
   "metadata": {},
   "outputs": [
    {
     "data": {
      "text/plain": [
       "GridSearchCV(cv=5,\n",
       "             estimator=Pipeline(steps=[('cvec', CountVectorizer()),\n",
       "                                       ('rf', RandomForestClassifier())]),\n",
       "             n_jobs=-1,\n",
       "             param_grid={'cvec__max_df': [0.95], 'cvec__max_features': [3000],\n",
       "                         'cvec__min_df': [3], 'cvec__ngram_range': [(1, 1)],\n",
       "                         'rf__max_depth': [None], 'rf__n_estimators': [150]})"
      ]
     },
     "execution_count": 74,
     "metadata": {},
     "output_type": "execute_result"
    }
   ],
   "source": [
    "# fit train set \n",
    "gs5.fit(X_train, y_train)"
   ]
  },
  {
   "cell_type": "code",
   "execution_count": 75,
   "id": "92be311e",
   "metadata": {},
   "outputs": [
    {
     "name": "stdout",
     "output_type": "stream",
     "text": [
      "Mean cross-val score of the best_estimator for model 5: 0.8409154379830899.\n",
      "Best parameters for model 5: {'cvec__max_df': 0.95, 'cvec__max_features': 3000, 'cvec__min_df': 3, 'cvec__ngram_range': (1, 1), 'rf__max_depth': None, 'rf__n_estimators': 150}.\n"
     ]
    }
   ],
   "source": [
    "# derive best score and best parameters\n",
    "print(f'Mean cross-val score of the best_estimator for model 5: {gs5.best_score_}.') \n",
    "print(f'Best parameters for model 5: {gs5.best_params_}.')"
   ]
  },
  {
   "cell_type": "code",
   "execution_count": 76,
   "id": "842c3875",
   "metadata": {},
   "outputs": [
    {
     "name": "stdout",
     "output_type": "stream",
     "text": [
      "Train score: 0.999530736743313\n",
      "Test score: 0.8312236286919831\n"
     ]
    }
   ],
   "source": [
    "# score model on train and test sets\n",
    "print(f'Train score: {gs5.score(X_train, y_train)}')\n",
    "print(f'Test score: {gs5.score(X_test, y_test)}')"
   ]
  },
  {
   "cell_type": "code",
   "execution_count": 77,
   "id": "dc080263",
   "metadata": {},
   "outputs": [],
   "source": [
    "# get predictions\n",
    "preds5 = gs5.predict(X_test)"
   ]
  },
  {
   "cell_type": "code",
   "execution_count": 78,
   "id": "b81f6517",
   "metadata": {},
   "outputs": [],
   "source": [
    "# save confusion matrix values\n",
    "cm5 = confusion_matrix(y_test, preds5)\n",
    "tn5, fp5, fn5, tp5 = confusion_matrix(y_test, preds5).ravel()"
   ]
  },
  {
   "cell_type": "code",
   "execution_count": 79,
   "id": "66027aa6",
   "metadata": {},
   "outputs": [],
   "source": [
    "# calculate classification metrics\n",
    "score5 = gs5.score(X_test, y_test) # accuracy score\n",
    "prec5 = precision_score(y_test, preds5) # precision score\n",
    "rec5 = recall_score(y_test, preds5) # recall/sensitivity score\n",
    "spec5 = tn5 / (tn5 + fp5) # specificity score"
   ]
  },
  {
   "cell_type": "code",
   "execution_count": 80,
   "id": "d877b432",
   "metadata": {},
   "outputs": [],
   "source": [
    "# create modified labels for confusion matrix\n",
    "modified_cm5 = []\n",
    "for index,value in enumerate(cm5):\n",
    "    if index == 0:\n",
    "        modified_cm5.append(['TN = ' + str(value[0]), 'FP = ' + str(value[1])])\n",
    "    if index == 1:\n",
    "        modified_cm5.append(['FN = ' + str(value[0]), 'TP = ' + str(value[1])])   "
   ]
  },
  {
   "cell_type": "code",
   "execution_count": 81,
   "id": "76bc9f2d",
   "metadata": {},
   "outputs": [
    {
     "data": {
      "text/plain": [
       "Text(0.5, 1.05, 'Confusion Matrix for Model 5: Count Vectorizer x Random Forest')"
      ]
     },
     "execution_count": 81,
     "metadata": {},
     "output_type": "execute_result"
    },
    {
     "data": {
      "image/png": "[encoded data removed]",
      "text/plain": [
       "<Figure size 432x432 with 2 Axes>"
      ]
     },
     "metadata": {
      "needs_background": "light"
     },
     "output_type": "display_data"
    }
   ],
   "source": [
    "# plot confusion matrix\n",
    "plt.figure(figsize=(6,6))\n",
    "sns.heatmap(cm5, annot=np.array(modified_cm5),\n",
    "            fmt=\"\",\n",
    "            annot_kws={\"size\": 12},\n",
    "            linewidths=.5,\n",
    "            square = True,\n",
    "            cmap = 'Reds',\n",
    "            xticklabels = ['coffee', 'tea'],\n",
    "            yticklabels = ['coffee', 'tea'],\n",
    "            );\n",
    "\n",
    "plt.ylabel('Actual label', fontsize = 12);\n",
    "plt.xlabel('Predicted label', fontsize = 12);\n",
    "plt.title('Accuracy: {:.2f}'.format(score5)+'\\n'\n",
    "          +'Precision: {:.2f}'.format(prec5)+'\\n'\n",
    "          +'Recall: {:.2f}'.format(rec5)+'\\n'\n",
    "          + 'Specificity: {:.2f}'.format(spec5)+'\\n', size = 12);\n",
    "plt.tick_params(labelsize= 12)\n",
    "plt.suptitle('Confusion Matrix for Model 5: Count Vectorizer x Random Forest', y = 1.05,fontsize=14)"
   ]
  },
  {
   "cell_type": "markdown",
   "id": "9247640d",
   "metadata": {},
   "source": [
    "### Model 5: Feature Importance"
   ]
  },
  {
   "cell_type": "code",
   "execution_count": 82,
   "id": "50e47eb0",
   "metadata": {},
   "outputs": [],
   "source": [
    "# pass best estimator model into a variable\n",
    "gs5_model = gs5.best_estimator_"
   ]
  },
  {
   "cell_type": "code",
   "execution_count": 83,
   "id": "c1eaf4e1",
   "metadata": {},
   "outputs": [],
   "source": [
    "# set variables to access the model steps by name \n",
    "transformer5 = gs5_model.named_steps['cvec']\n",
    "estimator5 = gs5_model.named_steps['rf']"
   ]
  },
  {
   "cell_type": "code",
   "execution_count": 84,
   "id": "d1db1198",
   "metadata": {},
   "outputs": [],
   "source": [
    "# create a dataframe to store feature name against the exponential of their coefficients\n",
    "df5 = pd.DataFrame()\n",
    "df5['feature'] = transformer5.get_feature_names()\n",
    "df5['importance'] = estimator5.feature_importances_"
   ]
  },
  {
   "cell_type": "code",
   "execution_count": 85,
   "id": "da1a3082",
   "metadata": {
    "scrolled": true
   },
   "outputs": [
    {
     "data": {
      "text/html": [
       "<div>\n",
       "<style scoped>\n",
       "    .dataframe tbody tr th:only-of-type {\n",
       "        vertical-align: middle;\n",
       "    }\n",
       "\n",
       "    .dataframe tbody tr th {\n",
       "        vertical-align: top;\n",
       "    }\n",
       "\n",
       "    .dataframe thead th {\n",
       "        text-align: right;\n",
       "    }\n",
       "</style>\n",
       "<table border=\"1\" class=\"dataframe\">\n",
       "  <thead>\n",
       "    <tr style=\"text-align: right;\">\n",
       "      <th></th>\n",
       "      <th>feature</th>\n",
       "      <th>importance</th>\n",
       "    </tr>\n",
       "  </thead>\n",
       "  <tbody>\n",
       "    <tr>\n",
       "      <th>1327</th>\n",
       "      <td>machine</td>\n",
       "      <td>0.031474</td>\n",
       "    </tr>\n",
       "    <tr>\n",
       "      <th>189</th>\n",
       "      <td>bean</td>\n",
       "      <td>0.027452</td>\n",
       "    </tr>\n",
       "    <tr>\n",
       "      <th>727</th>\n",
       "      <td>espresso</td>\n",
       "      <td>0.027061</td>\n",
       "    </tr>\n",
       "    <tr>\n",
       "      <th>985</th>\n",
       "      <td>grinder</td>\n",
       "      <td>0.022993</td>\n",
       "    </tr>\n",
       "    <tr>\n",
       "      <th>984</th>\n",
       "      <td>grind</td>\n",
       "      <td>0.019340</td>\n",
       "    </tr>\n",
       "    <tr>\n",
       "      <th>981</th>\n",
       "      <td>green</td>\n",
       "      <td>0.015648</td>\n",
       "    </tr>\n",
       "    <tr>\n",
       "      <th>1258</th>\n",
       "      <td>leaf</td>\n",
       "      <td>0.014188</td>\n",
       "    </tr>\n",
       "    <tr>\n",
       "      <th>988</th>\n",
       "      <td>ground</td>\n",
       "      <td>0.012073</td>\n",
       "    </tr>\n",
       "    <tr>\n",
       "      <th>1891</th>\n",
       "      <td>roast</td>\n",
       "      <td>0.011271</td>\n",
       "    </tr>\n",
       "    <tr>\n",
       "      <th>294</th>\n",
       "      <td>burr</td>\n",
       "      <td>0.009008</td>\n",
       "    </tr>\n",
       "    <tr>\n",
       "      <th>1337</th>\n",
       "      <td>maker</td>\n",
       "      <td>0.008835</td>\n",
       "    </tr>\n",
       "    <tr>\n",
       "      <th>1892</th>\n",
       "      <td>roaster</td>\n",
       "      <td>0.008817</td>\n",
       "    </tr>\n",
       "    <tr>\n",
       "      <th>884</th>\n",
       "      <td>french</td>\n",
       "      <td>0.007853</td>\n",
       "    </tr>\n",
       "    <tr>\n",
       "      <th>1542</th>\n",
       "      <td>oolong</td>\n",
       "      <td>0.007550</td>\n",
       "    </tr>\n",
       "    <tr>\n",
       "      <th>1336</th>\n",
       "      <td>make</td>\n",
       "      <td>0.007177</td>\n",
       "    </tr>\n",
       "    <tr>\n",
       "      <th>1430</th>\n",
       "      <td>moka</td>\n",
       "      <td>0.007171</td>\n",
       "    </tr>\n",
       "    <tr>\n",
       "      <th>37</th>\n",
       "      <td>aeropress</td>\n",
       "      <td>0.006917</td>\n",
       "    </tr>\n",
       "    <tr>\n",
       "      <th>1307</th>\n",
       "      <td>loose</td>\n",
       "      <td>0.006811</td>\n",
       "    </tr>\n",
       "    <tr>\n",
       "      <th>822</th>\n",
       "      <td>filter</td>\n",
       "      <td>0.006489</td>\n",
       "    </tr>\n",
       "    <tr>\n",
       "      <th>2133</th>\n",
       "      <td>starbucks</td>\n",
       "      <td>0.005748</td>\n",
       "    </tr>\n",
       "  </tbody>\n",
       "</table>\n",
       "</div>"
      ],
      "text/plain": [
       "        feature  importance\n",
       "1327    machine    0.031474\n",
       "189        bean    0.027452\n",
       "727    espresso    0.027061\n",
       "985     grinder    0.022993\n",
       "984       grind    0.019340\n",
       "981       green    0.015648\n",
       "1258       leaf    0.014188\n",
       "988      ground    0.012073\n",
       "1891      roast    0.011271\n",
       "294        burr    0.009008\n",
       "1337      maker    0.008835\n",
       "1892    roaster    0.008817\n",
       "884      french    0.007853\n",
       "1542     oolong    0.007550\n",
       "1336       make    0.007177\n",
       "1430       moka    0.007171\n",
       "37    aeropress    0.006917\n",
       "1307      loose    0.006811\n",
       "822      filter    0.006489\n",
       "2133  starbucks    0.005748"
      ]
     },
     "execution_count": 85,
     "metadata": {},
     "output_type": "execute_result"
    }
   ],
   "source": [
    "# top 10 features\n",
    "df5.sort_values(by=['importance'],ascending=False).head(20)"
   ]
  },
  {
   "cell_type": "markdown",
   "id": "fd18a3b2",
   "metadata": {},
   "source": [
    "### Model 6: TF-IDF Vectorizer & Random Forest Classifier"
   ]
  },
  {
   "cell_type": "code",
   "execution_count": 86,
   "id": "d2c01b85",
   "metadata": {},
   "outputs": [],
   "source": [
    "# set pipeline and parameters\n",
    "pipe6 = Pipeline([\n",
    "    ('tf',TfidfVectorizer()),\n",
    "    ('rf', RandomForestClassifier())\n",
    "])\n",
    "\n",
    "# gridsearchcv done on several parameters, and found the optimal values as follows:\n",
    "params6 = {\n",
    "    'tf__max_features' : [3_000],  #[3_000,5_000, 7_000]\n",
    "    'tf__ngram_range' : [(1,1)], #[(1,1), (1,2)]\n",
    "    'rf__n_estimators': [100], #[100, 150]\n",
    "    'rf__max_depth': [None] #[None, 1, 2, 3]\n",
    "}"
   ]
  },
  {
   "cell_type": "code",
   "execution_count": 87,
   "id": "8dc2c0a5",
   "metadata": {},
   "outputs": [],
   "source": [
    "# set gridsearch\n",
    "gs6 = GridSearchCV(pipe6,\n",
    "                  param_grid=params6,\n",
    "                  cv=5,\n",
    "                  n_jobs=-1)"
   ]
  },
  {
   "cell_type": "code",
   "execution_count": 88,
   "id": "f5b4ea94",
   "metadata": {},
   "outputs": [
    {
     "data": {
      "text/plain": [
       "GridSearchCV(cv=5,\n",
       "             estimator=Pipeline(steps=[('tf', TfidfVectorizer()),\n",
       "                                       ('rf', RandomForestClassifier())]),\n",
       "             n_jobs=-1,\n",
       "             param_grid={'rf__max_depth': [None], 'rf__n_estimators': [100],\n",
       "                         'tf__max_features': [3000],\n",
       "                         'tf__ngram_range': [(1, 1)]})"
      ]
     },
     "execution_count": 88,
     "metadata": {},
     "output_type": "execute_result"
    }
   ],
   "source": [
    "# fit on train set\n",
    "gs6.fit(X_train, y_train)"
   ]
  },
  {
   "cell_type": "code",
   "execution_count": 89,
   "id": "762a53c2",
   "metadata": {},
   "outputs": [
    {
     "name": "stdout",
     "output_type": "stream",
     "text": [
      "Mean cross-val score of the best_estimator for model 5: 0.8343558619476422.\n",
      "Best parameters for model 5: {'rf__max_depth': None, 'rf__n_estimators': 100, 'tf__max_features': 3000, 'tf__ngram_range': (1, 1)}.\n"
     ]
    }
   ],
   "source": [
    "# derive the best score and best parameteres\n",
    "print(f'Mean cross-val score of the best_estimator for model 5: {gs6.best_score_}.') \n",
    "print(f'Best parameters for model 5: {gs6.best_params_}.')"
   ]
  },
  {
   "cell_type": "code",
   "execution_count": 90,
   "id": "34e8ce91",
   "metadata": {},
   "outputs": [
    {
     "name": "stdout",
     "output_type": "stream",
     "text": [
      "Train score: 1.0\n",
      "Test score: 0.8270042194092827\n"
     ]
    }
   ],
   "source": [
    "# Score model on train and test sets\n",
    "print(f'Train score: {gs6.score(X_train, y_train)}')\n",
    "print(f'Test score: {gs6.score(X_test, y_test)}')"
   ]
  },
  {
   "cell_type": "code",
   "execution_count": 91,
   "id": "bc07bd49",
   "metadata": {},
   "outputs": [],
   "source": [
    "# get predictions\n",
    "preds6 = gs6.predict(X_test)"
   ]
  },
  {
   "cell_type": "code",
   "execution_count": 92,
   "id": "470a3f76",
   "metadata": {},
   "outputs": [],
   "source": [
    "# save confusion matrix values\n",
    "cm6 = confusion_matrix(y_test, preds6)\n",
    "tn6, fp6, fn6, tp6 = confusion_matrix(y_test, preds6).ravel()"
   ]
  },
  {
   "cell_type": "code",
   "execution_count": 93,
   "id": "dd51455a",
   "metadata": {},
   "outputs": [],
   "source": [
    "# calculate classification metrics\n",
    "score6 = gs6.score(X_test, y_test) # accuracy score\n",
    "prec6 = precision_score(y_test, preds6) # precision score\n",
    "rec6 = recall_score(y_test, preds6) # recall/sensitivity score\n",
    "spec6 = tn6 / (tn6 + fp6) # specificity score"
   ]
  },
  {
   "cell_type": "code",
   "execution_count": 94,
   "id": "4d9e2970",
   "metadata": {},
   "outputs": [],
   "source": [
    "# create modified labels for confusion matrix\n",
    "modified_cm6 = []\n",
    "for index,value in enumerate(cm6):\n",
    "    if index == 0:\n",
    "        modified_cm6.append(['TN = ' + str(value[0]), 'FP = ' + str(value[1])])\n",
    "    if index == 1:\n",
    "        modified_cm6.append(['FN = ' + str(value[0]), 'TP = ' + str(value[1])])   "
   ]
  },
  {
   "cell_type": "code",
   "execution_count": 95,
   "id": "5da50503",
   "metadata": {},
   "outputs": [
    {
     "data": {
      "text/plain": [
       "Text(0.5, 1.05, 'Confusion Matrix for Model 6: TF-IDF x Random Forest')"
      ]
     },
     "execution_count": 95,
     "metadata": {},
     "output_type": "execute_result"
    },
    {
     "data": {
      "image/png": "[encoded data removed]",
      "text/plain": [
       "<Figure size 432x432 with 2 Axes>"
      ]
     },
     "metadata": {
      "needs_background": "light"
     },
     "output_type": "display_data"
    }
   ],
   "source": [
    "# plot confusion matrix\n",
    "plt.figure(figsize=(6,6))\n",
    "sns.heatmap(cm6, annot=np.array(modified_cm6),\n",
    "            fmt=\"\",\n",
    "            annot_kws={\"size\": 12},\n",
    "            linewidths=.5,\n",
    "            square = True,\n",
    "            cmap = 'Reds',\n",
    "            xticklabels = ['coffee', 'tea'],\n",
    "            yticklabels = ['coffee', 'tea'],\n",
    "            );\n",
    "\n",
    "plt.ylabel('Actual label', fontsize = 12);\n",
    "plt.xlabel('Predicted label', fontsize = 12);\n",
    "plt.title('Accuracy: {:.2f}'.format(score6)+'\\n'\n",
    "          +'Precision: {:.2f}'.format(prec6)+'\\n'\n",
    "          +'Recall: {:.2f}'.format(rec6)+'\\n'\n",
    "          + 'Specificity: {:.2f}'.format(spec6)+'\\n', size = 12);\n",
    "plt.tick_params(labelsize= 12)\n",
    "plt.suptitle('Confusion Matrix for Model 6: TF-IDF x Random Forest', y = 1.05,fontsize=14)"
   ]
  },
  {
   "cell_type": "markdown",
   "id": "c0ec7c37",
   "metadata": {},
   "source": [
    "### Model 6: Feature Importance"
   ]
  },
  {
   "cell_type": "code",
   "execution_count": 96,
   "id": "78ed631e",
   "metadata": {},
   "outputs": [],
   "source": [
    "# pass best estimator model into a variable\n",
    "gs6_model = gs6.best_estimator_"
   ]
  },
  {
   "cell_type": "code",
   "execution_count": 97,
   "id": "531d69c4",
   "metadata": {},
   "outputs": [],
   "source": [
    "# set variables to access the model steps by name \n",
    "transformer6 = gs6_model.named_steps['tf']\n",
    "estimator6 = gs6_model.named_steps['rf']"
   ]
  },
  {
   "cell_type": "code",
   "execution_count": 98,
   "id": "ea2ac852",
   "metadata": {},
   "outputs": [],
   "source": [
    "# create a dataframe to store feature name against the exponential of their coefficients\n",
    "df6 = pd.DataFrame()\n",
    "df6['feature'] = transformer6.get_feature_names()\n",
    "df6['importance'] = estimator6.feature_importances_"
   ]
  },
  {
   "cell_type": "code",
   "execution_count": 99,
   "id": "210aaf93",
   "metadata": {
    "scrolled": true
   },
   "outputs": [
    {
     "data": {
      "text/html": [
       "<div>\n",
       "<style scoped>\n",
       "    .dataframe tbody tr th:only-of-type {\n",
       "        vertical-align: middle;\n",
       "    }\n",
       "\n",
       "    .dataframe tbody tr th {\n",
       "        vertical-align: top;\n",
       "    }\n",
       "\n",
       "    .dataframe thead th {\n",
       "        text-align: right;\n",
       "    }\n",
       "</style>\n",
       "<table border=\"1\" class=\"dataframe\">\n",
       "  <thead>\n",
       "    <tr style=\"text-align: right;\">\n",
       "      <th></th>\n",
       "      <th>feature</th>\n",
       "      <th>importance</th>\n",
       "    </tr>\n",
       "  </thead>\n",
       "  <tbody>\n",
       "    <tr>\n",
       "      <th>824</th>\n",
       "      <td>espresso</td>\n",
       "      <td>0.029237</td>\n",
       "    </tr>\n",
       "    <tr>\n",
       "      <th>1510</th>\n",
       "      <td>machine</td>\n",
       "      <td>0.027794</td>\n",
       "    </tr>\n",
       "    <tr>\n",
       "      <th>224</th>\n",
       "      <td>bean</td>\n",
       "      <td>0.025512</td>\n",
       "    </tr>\n",
       "    <tr>\n",
       "      <th>1102</th>\n",
       "      <td>grinder</td>\n",
       "      <td>0.021813</td>\n",
       "    </tr>\n",
       "    <tr>\n",
       "      <th>1101</th>\n",
       "      <td>grind</td>\n",
       "      <td>0.019325</td>\n",
       "    </tr>\n",
       "    <tr>\n",
       "      <th>1098</th>\n",
       "      <td>green</td>\n",
       "      <td>0.013291</td>\n",
       "    </tr>\n",
       "    <tr>\n",
       "      <th>1426</th>\n",
       "      <td>leaf</td>\n",
       "      <td>0.012676</td>\n",
       "    </tr>\n",
       "    <tr>\n",
       "      <th>1105</th>\n",
       "      <td>ground</td>\n",
       "      <td>0.010767</td>\n",
       "    </tr>\n",
       "    <tr>\n",
       "      <th>2240</th>\n",
       "      <td>roast</td>\n",
       "      <td>0.009324</td>\n",
       "    </tr>\n",
       "    <tr>\n",
       "      <th>1523</th>\n",
       "      <td>make</td>\n",
       "      <td>0.009295</td>\n",
       "    </tr>\n",
       "    <tr>\n",
       "      <th>1804</th>\n",
       "      <td>oolong</td>\n",
       "      <td>0.009286</td>\n",
       "    </tr>\n",
       "    <tr>\n",
       "      <th>1524</th>\n",
       "      <td>maker</td>\n",
       "      <td>0.008672</td>\n",
       "    </tr>\n",
       "    <tr>\n",
       "      <th>2241</th>\n",
       "      <td>roaster</td>\n",
       "      <td>0.008423</td>\n",
       "    </tr>\n",
       "    <tr>\n",
       "      <th>1055</th>\n",
       "      <td>get</td>\n",
       "      <td>0.008142</td>\n",
       "    </tr>\n",
       "    <tr>\n",
       "      <th>995</th>\n",
       "      <td>french</td>\n",
       "      <td>0.007137</td>\n",
       "    </tr>\n",
       "    <tr>\n",
       "      <th>119</th>\n",
       "      <td>anyone</td>\n",
       "      <td>0.007016</td>\n",
       "    </tr>\n",
       "    <tr>\n",
       "      <th>1072</th>\n",
       "      <td>good</td>\n",
       "      <td>0.006139</td>\n",
       "    </tr>\n",
       "    <tr>\n",
       "      <th>338</th>\n",
       "      <td>burr</td>\n",
       "      <td>0.005859</td>\n",
       "    </tr>\n",
       "    <tr>\n",
       "      <th>1655</th>\n",
       "      <td>moka</td>\n",
       "      <td>0.005781</td>\n",
       "    </tr>\n",
       "    <tr>\n",
       "      <th>1481</th>\n",
       "      <td>loose</td>\n",
       "      <td>0.005775</td>\n",
       "    </tr>\n",
       "  </tbody>\n",
       "</table>\n",
       "</div>"
      ],
      "text/plain": [
       "       feature  importance\n",
       "824   espresso    0.029237\n",
       "1510   machine    0.027794\n",
       "224       bean    0.025512\n",
       "1102   grinder    0.021813\n",
       "1101     grind    0.019325\n",
       "1098     green    0.013291\n",
       "1426      leaf    0.012676\n",
       "1105    ground    0.010767\n",
       "2240     roast    0.009324\n",
       "1523      make    0.009295\n",
       "1804    oolong    0.009286\n",
       "1524     maker    0.008672\n",
       "2241   roaster    0.008423\n",
       "1055       get    0.008142\n",
       "995     french    0.007137\n",
       "119     anyone    0.007016\n",
       "1072      good    0.006139\n",
       "338       burr    0.005859\n",
       "1655      moka    0.005781\n",
       "1481     loose    0.005775"
      ]
     },
     "execution_count": 99,
     "metadata": {},
     "output_type": "execute_result"
    }
   ],
   "source": [
    "# top 10 features\n",
    "df6.sort_values(by=['importance'],ascending=False).head(20)"
   ]
  },
  {
   "cell_type": "markdown",
   "id": "ea8aa9d2",
   "metadata": {},
   "source": [
    "## Model Evaluation"
   ]
  },
  {
   "cell_type": "markdown",
   "id": "3af150c9",
   "metadata": {},
   "source": [
    "**Accuracy** is the most important metric in our project, as both classes (tea and coffee) are equally important for us to classify correctly. There, our final evaluation is that based on the accuracy scores, CountVectorizer with Multinomial Naive Bayes model performed the best. \n",
    "\n",
    "It is noted that the accuracy scores for the models tested are marginally close. \n",
    "\n",
    "Depending on the company's management appetite, we can set a **threshold for false positive rate** to consider other models that can also be used. "
   ]
  },
  {
   "cell_type": "code",
   "execution_count": 100,
   "id": "f5cfa4f6",
   "metadata": {},
   "outputs": [
    {
     "data": {
      "text/plain": [
       "Text(0, 0.5, 'Model')"
      ]
     },
     "execution_count": 100,
     "metadata": {},
     "output_type": "execute_result"
    },
    {
     "data": {
      "image/png": "[encoded data removed]",
      "text/plain": [
       "<Figure size 432x288 with 1 Axes>"
      ]
     },
     "metadata": {
      "needs_background": "light"
     },
     "output_type": "display_data"
    }
   ],
   "source": [
    "base_score = y_test.value_counts(normalize=True)[0]\n",
    "\n",
    "models_accuracy = pd.DataFrame()\n",
    "models_accuracy['score'] = [score1,score2,score3,score4,score5,score6,base_score]\n",
    "\n",
    "models_accuracy['model'] = ['cvec-mnb','tfidf-mnb','tfidf-lr','cvec-lr','cvec-rf','tfidf-rf','baseline']\n",
    "models_accuracy.set_index('model')\n",
    "\n",
    "sorted_df = models_accuracy.sort_values('score',ascending=True)\n",
    "\n",
    "plt.barh(sorted_df['model'],sorted_df['score'],color=['grey', 'grey', 'grey', 'grey', 'grey','grey','red'])\n",
    "plt.suptitle('Comparison of Model Accuracy Scores', fontsize=16,y=0.93)\n",
    "plt.xlabel('Accuracy Score', fontsize=12)\n",
    "plt.ylabel('Model', fontsize=12)"
   ]
  },
  {
   "cell_type": "markdown",
   "id": "7fe73f76",
   "metadata": {},
   "source": [
    "> **Interpretation**\n",
    "> \n",
    "> * All models performed much better than the baseline, as expected. \n",
    "> * Chart is arranged according on the descending value of accuracy scores. \n",
    "> * The train scores for random forest models are 1, but the test scores are significant lower (~0.2 delta), which implies overfitting. This could be because the dataset is noisy, and thus the random forest models are overfitting on them.\n",
    "> * It is noted that if we are testing on truly unseen data, we will use the gridsearchCV best scores as the key metric to select the best model. "
   ]
  },
  {
   "cell_type": "code",
   "execution_count": 101,
   "id": "fdbaf22c",
   "metadata": {},
   "outputs": [
    {
     "data": {
      "text/plain": [
       "<matplotlib.legend.Legend at 0x1f7fd575370>"
      ]
     },
     "execution_count": 101,
     "metadata": {},
     "output_type": "execute_result"
    },
    {
     "data": {
      "image/png": "[encoded data removed]",
      "text/plain": [
       "<Figure size 720x576 with 1 Axes>"
      ]
     },
     "metadata": {
      "needs_background": "light"
     },
     "output_type": "display_data"
    }
   ],
   "source": [
    "# overlapping ROC curves for all models\n",
    "\n",
    "#set up plotting area\n",
    "plt.figure(figsize=(10, 8)).clf()\n",
    "\n",
    "# cvec mnb\n",
    "y_pred1 = gs1_model.predict_proba(X_test)[:, 1]\n",
    "fpr1, tpr1, _ = metrics.roc_curve(y_test, y_pred1)\n",
    "auc1 = round(metrics.roc_auc_score(y_test, y_pred1), 4)\n",
    "plt.plot(fpr1,tpr1,label=\"CVEC MNB, AUC=\"+str(\"{:.3f}\".format(auc1)))\n",
    "\n",
    "# tfidf mnb\n",
    "y_pred2 = gs2_model.predict_proba(X_test)[:, 1]\n",
    "fpr2, tpr2, _ = metrics.roc_curve(y_test, y_pred2)\n",
    "auc2 = round(metrics.roc_auc_score(y_test, y_pred2), 4)\n",
    "plt.plot(fpr2,tpr2,label=\"TFIDF MNB, AUC=\"+str(\"{:.3f}\".format(auc2)))\n",
    "\n",
    "# tfidf lr\n",
    "y_pred3 = gs3_model.predict_proba(X_test)[:, 1]\n",
    "fpr3, tpr3, _ = metrics.roc_curve(y_test, y_pred3)\n",
    "auc3 = round(metrics.roc_auc_score(y_test, y_pred3), 4)\n",
    "plt.plot(fpr3,tpr3,label=\"TFIDF LR, AUC=\"+str(\"{:.3f}\".format(auc3)))\n",
    "\n",
    "# cvec lr\n",
    "y_pred4 = gs4_model.predict_proba(X_test)[:, 1]\n",
    "fpr4, tpr4, _ = metrics.roc_curve(y_test, y_pred4)\n",
    "auc4 = round(metrics.roc_auc_score(y_test, y_pred4), 4)\n",
    "plt.plot(fpr4,tpr4,label=\"CVEC LR, AUC=\"+str(\"{:.3f}\".format(auc4)))\n",
    "\n",
    "# cvec rf\n",
    "y_pred5 = gs5_model.predict_proba(X_test)[:, 1]\n",
    "fpr5, tpr5, _ = metrics.roc_curve(y_test, y_pred5)\n",
    "auc5 = round(metrics.roc_auc_score(y_test, y_pred5), 4)\n",
    "plt.plot(fpr5,tpr5,label=\"CVEC RF, AUC=\"+str(\"{:.3f}\".format(auc5)))\n",
    "\n",
    "# tfidf rf\n",
    "y_pred6 = gs6_model.predict_proba(X_test)[:, 1]\n",
    "fpr6, tpr6, _ = metrics.roc_curve(y_test, y_pred6)\n",
    "auc6 = round(metrics.roc_auc_score(y_test, y_pred6), 4)\n",
    "plt.plot(fpr6,tpr6,label=\"TF-IDF RF, AUC=\"+str(\"{:.3f}\".format(auc6)))\n",
    "\n",
    "plt.plot([0, 1], [0, 1],\n",
    "         label='baseline', linestyle='--')\n",
    "\n",
    "plt.suptitle('AUC ROC Curve', fontsize=16,y=0.93)\n",
    "plt.xlabel('False Positive Rate (Positive Label: 1)', fontsize=12)\n",
    "plt.ylabel('True Positive Rate (Positive Label: 1)', fontsize=12)\n",
    "plt.axvline(x=0.04,c='r',label='FP threshold: 0.04')\n",
    "plt.legend()"
   ]
  },
  {
   "cell_type": "markdown",
   "id": "ffc5739f",
   "metadata": {},
   "source": [
    "> **Interpretation**\n",
    "> \n",
    "> * The higher the AUC, the better the model is at distinguishing between coffee and tea subreddits. \n",
    "> * In this project, the TF-IDF/MNB model performed marginally better than the CVEC/MNB model, with AUC delta of 0.01.\n",
    "> * Depending on business considerations, we can set different thresholds for false positive rates which will provide different options for an appropriate model that can be used. \n",
    ">   * If we set FP threshold below 0.04 as illustrated with the red line, the CVEC/MNB model will perform better. \n",
    ">   * If we set a higher FP threshold, the TF-IDF/MNB model will clearly perform better."
   ]
  }
 ],
 "metadata": {
  "kernelspec": {
   "display_name": "Python 3 (ipykernel)",
   "language": "python",
   "name": "python3"
  },
  "language_info": {
   "codemirror_mode": {
    "name": "ipython",
    "version": 3
   },
   "file_extension": ".py",
   "mimetype": "text/x-python",
   "name": "python",
   "nbconvert_exporter": "python",
   "pygments_lexer": "ipython3",
   "version": "3.9.7"
  },
  "varInspector": {
   "cols": {
    "lenName": 16,
    "lenType": 16,
    "lenVar": 40
   },
   "kernels_config": {
    "python": {
     "delete_cmd_postfix": "",
     "delete_cmd_prefix": "del ",
     "library": "var_list.py",
     "varRefreshCmd": "print(var_dic_list())"
    },
    "r": {
     "delete_cmd_postfix": ") ",
     "delete_cmd_prefix": "rm(",
     "library": "var_list.r",
     "varRefreshCmd": "cat(var_dic_list()) "
    }
   },
   "types_to_exclude": [
    "module",
    "function",
    "builtin_function_or_method",
    "instance",
    "_Feature"
   ],
   "window_display": false
  }
 },
 "nbformat": 4,
 "nbformat_minor": 5
}
